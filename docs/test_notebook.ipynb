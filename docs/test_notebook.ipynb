{
 "cells": [
  {
   "cell_type": "markdown",
   "metadata": {},
   "source": [
    "## Retrieve crawled web pages (2009-present) via Commoncrawl/AWS/Athena"
   ]
  },
  {
   "cell_type": "markdown",
   "metadata": {},
   "source": [
    "This process uses Kiara to access and retrieve web pages indexed by [Commoncrawl](https://commoncrawl.org/). Users can perform a SQL query on Commoncrawl stored documents to retrieve the indexes of web pages. It is then possible to retrieve the corresponding web pages.<br>\n",
    "The querying process may trigger billing by AWS since it uses Athena services to scan Commoncrawl stored data (5.00 USD per Terabytes, Oct. 2023)."
   ]
  },
  {
   "cell_type": "code",
   "execution_count": 61,
   "metadata": {},
   "outputs": [],
   "source": [
    "from kiara.api import KiaraAPI\n",
    "kiara = KiaraAPI.instance()"
   ]
  },
  {
   "cell_type": "markdown",
   "metadata": {},
   "source": [
    "### AWS Credentials"
   ]
  },
  {
   "cell_type": "code",
   "execution_count": 2,
   "metadata": {},
   "outputs": [],
   "source": [
    "aws_access_key_id = 'myawsaccesskey'\n",
    "aws_secret_access_key = 'myawssecretaccesskey'\n",
    "aws_s3_bucket = 'mys3bucket'\n",
    "# the name of the database to create\n",
    "db_name = 'cc_test'\n",
    "# the name of the table to store query results\n",
    "table_name = 'mossfon'"
   ]
  },
  {
   "cell_type": "markdown",
   "metadata": {},
   "source": [
    "### Query set-up to scan crawled data files"
   ]
  },
  {
   "cell_type": "markdown",
   "metadata": {},
   "source": [
    "In the following example, Athena will scan for Commoncrawl web pages for the domain name \"mossfon.com\" and limit the results to 10. Since no period is indicated, it will look at the whole Commoncrawl data from 2009 to now. See https://commoncrawl.org/blog/index-to-warc-files-and-urls-in-columnar-format for more information and more examples of queries."
   ]
  },
  {
   "cell_type": "code",
   "execution_count": 4,
   "metadata": {},
   "outputs": [],
   "source": [
    "query= f\"\"\"\n",
    "SELECT *\n",
    "FROM {db_name}.{table_name}\n",
    "WHERE url_host_registered_domain = 'mossfon.com'\n",
    "LIMIT 100\n",
    "\"\"\""
   ]
  },
  {
   "cell_type": "markdown",
   "metadata": {},
   "source": [
    "### I. Execute Athena query to find content on Commoncrawl"
   ]
  },
  {
   "cell_type": "code",
   "execution_count": 64,
   "metadata": {},
   "outputs": [
    {
     "name": "stdout",
     "output_type": "stream",
     "text": [
      "\n",
      "╭─ Operation: \u001b[1;3monboard.run_cc_query\u001b[0m ────────────────────────────────────────────╮\n",
      "│                                                                              │\n",
      "│  \u001b[3m \u001b[0m\u001b[3mDocumentation\u001b[0m\u001b[3m \u001b[0m  Execute a Common Crawl indexes query via Amazon Web        │\n",
      "│  \u001b[3m               \u001b[0m  Services (AWS) and Athena.                                 │\n",
      "│  \u001b[3m               \u001b[0m                                                             │\n",
      "│  \u001b[3m               \u001b[0m  This process requires an AWS account and an S3 bucket.     │\n",
      "│  \u001b[3m               \u001b[0m  It may trigger some fees billed by AWS.                    │\n",
      "│  \u001b[3m               \u001b[0m  Additional information on the process followed available   │\n",
      "│  \u001b[3m               \u001b[0m  at:                                                        │\n",
      "│  \u001b[3m               \u001b[0m  https://commoncrawl.org/2018/03/index-to-warc-files-and…   │\n",
      "│                                                                              │\n",
      "│  \u001b[3m \u001b[0m\u001b[3mInputs       \u001b[0m\u001b[3m \u001b[0m                                                             │\n",
      "│  \u001b[3m               \u001b[0m   \u001b[1m \u001b[0m\u001b[1mfield    \u001b[0m\u001b[1m \u001b[0m \u001b[1m        \u001b[0m \u001b[1m          \u001b[0m \u001b[1m          \u001b[0m \u001b[1m           \u001b[0m    │\n",
      "│  \u001b[3m               \u001b[0m   \u001b[1m \u001b[0m\u001b[1mname     \u001b[0m\u001b[1m \u001b[0m \u001b[1m \u001b[0m\u001b[1mtype  \u001b[0m\u001b[1m \u001b[0m \u001b[1m \u001b[0m\u001b[1mdescrip…\u001b[0m\u001b[1m \u001b[0m \u001b[1m \u001b[0m\u001b[1mRequired\u001b[0m\u001b[1m \u001b[0m \u001b[1m \u001b[0m\u001b[1mDefault  \u001b[0m\u001b[1m \u001b[0m    │\n",
      "│  \u001b[3m               \u001b[0m   ──────────────────────────────────────────────────────    │\n",
      "│  \u001b[3m               \u001b[0m   \u001b[3m \u001b[0m\u001b[3mquery    \u001b[0m\u001b[3m \u001b[0m  string   The        \u001b[1myes\u001b[0m        -- no         │\n",
      "│  \u001b[3m               \u001b[0m   \u001b[3m           \u001b[0m           query to              default       │\n",
      "│  \u001b[3m               \u001b[0m   \u001b[3m           \u001b[0m           run on                --            │\n",
      "│  \u001b[3m               \u001b[0m   \u001b[3m           \u001b[0m           AWS/Ath…                            │\n",
      "│  \u001b[3m               \u001b[0m   \u001b[3m \u001b[0m\u001b[3maws_acces\u001b[0m\u001b[3m \u001b[0m  string   The AWS    \u001b[1myes\u001b[0m        -- no         │\n",
      "│  \u001b[3m               \u001b[0m   \u001b[3m \u001b[0m\u001b[3ms_key_id \u001b[0m\u001b[3m \u001b[0m           access                default       │\n",
      "│  \u001b[3m               \u001b[0m   \u001b[3m           \u001b[0m           key id.               --            │\n",
      "│  \u001b[3m               \u001b[0m   \u001b[3m \u001b[0m\u001b[3maws_secre\u001b[0m\u001b[3m \u001b[0m  string   The AWS    \u001b[1myes\u001b[0m        -- no         │\n",
      "│  \u001b[3m               \u001b[0m   \u001b[3m \u001b[0m\u001b[3mt_access_\u001b[0m\u001b[3m \u001b[0m           secret                default       │\n",
      "│  \u001b[3m               \u001b[0m   \u001b[3m \u001b[0m\u001b[3mkey      \u001b[0m\u001b[3m \u001b[0m           access                --            │\n",
      "│  \u001b[3m               \u001b[0m   \u001b[3m           \u001b[0m           key.                                │\n",
      "│  \u001b[3m               \u001b[0m   \u001b[3m \u001b[0m\u001b[3maws_s3_bu\u001b[0m\u001b[3m \u001b[0m  string   Name of    \u001b[1myes\u001b[0m        -- no         │\n",
      "│  \u001b[3m               \u001b[0m   \u001b[3m \u001b[0m\u001b[3mcket     \u001b[0m\u001b[3m \u001b[0m           S3                    default       │\n",
      "│  \u001b[3m               \u001b[0m   \u001b[3m           \u001b[0m           bucket                --            │\n",
      "│  \u001b[3m               \u001b[0m   \u001b[3m           \u001b[0m           to store                            │\n",
      "│  \u001b[3m               \u001b[0m   \u001b[3m           \u001b[0m           results.                            │\n",
      "│  \u001b[3m               \u001b[0m   \u001b[3m \u001b[0m\u001b[3mdb_name  \u001b[0m\u001b[3m \u001b[0m  string   Name of    \u001b[1myes\u001b[0m        -- no         │\n",
      "│  \u001b[3m               \u001b[0m   \u001b[3m           \u001b[0m           the                   default       │\n",
      "│  \u001b[3m               \u001b[0m   \u001b[3m           \u001b[0m           database              --            │\n",
      "│  \u001b[3m               \u001b[0m   \u001b[3m           \u001b[0m           to                                  │\n",
      "│  \u001b[3m               \u001b[0m   \u001b[3m           \u001b[0m           create.                             │\n",
      "│  \u001b[3m               \u001b[0m   \u001b[3m \u001b[0m\u001b[3mtable_nam\u001b[0m\u001b[3m \u001b[0m  string   Name of    \u001b[1myes\u001b[0m        -- no         │\n",
      "│  \u001b[3m               \u001b[0m   \u001b[3m \u001b[0m\u001b[3me        \u001b[0m\u001b[3m \u001b[0m           the                   default       │\n",
      "│  \u001b[3m               \u001b[0m   \u001b[3m           \u001b[0m           table to              --            │\n",
      "│  \u001b[3m               \u001b[0m   \u001b[3m           \u001b[0m           create.                             │\n",
      "│  \u001b[3m               \u001b[0m                                                             │\n",
      "│                                                                              │\n",
      "│  \u001b[3m \u001b[0m\u001b[3mOutputs      \u001b[0m\u001b[3m \u001b[0m                                                             │\n",
      "│  \u001b[3m               \u001b[0m   \u001b[1m \u001b[0m\u001b[1mfield name \u001b[0m\u001b[1m \u001b[0m \u001b[1m \u001b[0m\u001b[1mtype  \u001b[0m\u001b[1m \u001b[0m \u001b[1m \u001b[0m\u001b[1mdescription                  \u001b[0m\u001b[1m \u001b[0m    │\n",
      "│  \u001b[3m               \u001b[0m   ──────────────────────────────────────────────────────    │\n",
      "│  \u001b[3m               \u001b[0m   \u001b[3m \u001b[0m\u001b[3mcc_query_id\u001b[0m\u001b[3m \u001b[0m  string   -- n/a --                         │\n",
      "│  \u001b[3m               \u001b[0m                                                             │\n",
      "│                                                                              │\n",
      "╰──────────────────────────────────────────────────────────────────────────────╯\n"
     ]
    }
   ],
   "source": [
    "! kiara operation explain onboard.run_cc_query"
   ]
  },
  {
   "cell_type": "code",
   "execution_count": 65,
   "metadata": {},
   "outputs": [],
   "source": [
    "inputs = {\n",
    "    \"aws_access_key_id\": aws_access_key_id,\n",
    "    \"aws_secret_access_key\": aws_secret_access_key,\n",
    "    \"aws_s3_bucket\": aws_s3_bucket,\n",
    "    \"query\": query,\n",
    "    \"db_name\": db_name,\n",
    "    \"table_name\": table_name,\n",
    " }"
   ]
  },
  {
   "cell_type": "code",
   "execution_count": 66,
   "metadata": {},
   "outputs": [],
   "source": [
    "query_id = kiara.run_job('onboard.run_cc_query', inputs=inputs)"
   ]
  },
  {
   "cell_type": "code",
   "execution_count": 67,
   "metadata": {},
   "outputs": [
    {
     "data": {
      "text/html": [
       "<pre style=\"white-space:pre;overflow-x:auto;line-height:normal;font-family:Menlo,'DejaVu Sans Mono',consolas,'Courier New',monospace\">╭──────────────────────────────────────────────────────────────────────────────────────────────────────────────────────────────────────────╮\n",
       "│                                                                                                                                          │\n",
       "│  <span style=\"font-weight: bold\"> field       </span> <span style=\"font-weight: bold\"> value                                </span>                                                                                    │\n",
       "│  ────────────────────────────────────────────────────                                                                                    │\n",
       "│  <span style=\"font-weight: bold\"> cc_query_id </span> <span style=\"font-style: italic\"> 47f2f1df-45ea-4901-8334-e4d11fba87b2 </span>                                                                                    │\n",
       "│                                                                                                                                          │\n",
       "╰──────────────────────────────────────────────────────────────────────────────────────────────────────────────────────────────────────────╯\n",
       "</pre>\n"
      ],
      "text/plain": [
       "╭──────────────────────────────────────────────────────────────────────────────────────────────────────────────────────────────────────────╮\n",
       "│                                                                                                                                          │\n",
       "│  \u001b[1m \u001b[0m\u001b[1mfield      \u001b[0m\u001b[1m \u001b[0m \u001b[1m \u001b[0m\u001b[1mvalue                               \u001b[0m\u001b[1m \u001b[0m                                                                                    │\n",
       "│  ────────────────────────────────────────────────────                                                                                    │\n",
       "│  \u001b[1m \u001b[0m\u001b[1mcc_query_id\u001b[0m\u001b[1m \u001b[0m \u001b[3m \u001b[0m\u001b[3m47f2f1df-45ea-4901-8334-e4d11fba87b2\u001b[0m\u001b[3m \u001b[0m                                                                                    │\n",
       "│                                                                                                                                          │\n",
       "╰──────────────────────────────────────────────────────────────────────────────────────────────────────────────────────────────────────────╯\n"
      ]
     },
     "execution_count": 67,
     "metadata": {},
     "output_type": "execute_result"
    }
   ],
   "source": [
    "query_id"
   ]
  },
  {
   "cell_type": "code",
   "execution_count": 68,
   "metadata": {},
   "outputs": [
    {
     "data": {
      "text/plain": [
       "'47f2f1df-45ea-4901-8334-e4d11fba87b2'"
      ]
     },
     "execution_count": 68,
     "metadata": {},
     "output_type": "execute_result"
    }
   ],
   "source": [
    "query_id['cc_query_id'].data"
   ]
  },
  {
   "cell_type": "markdown",
   "metadata": {},
   "source": [
    "### II. Get query execution status"
   ]
  },
  {
   "cell_type": "markdown",
   "metadata": {},
   "source": [
    "Before retrieving the results, check that the query execution process is finished."
   ]
  },
  {
   "cell_type": "code",
   "execution_count": 69,
   "metadata": {},
   "outputs": [
    {
     "name": "stdout",
     "output_type": "stream",
     "text": [
      "\n",
      "╭─ Operation: \u001b[1;3monboard.get_cc_query_status\u001b[0m ─────────────────────────────────────╮\n",
      "│                                                                              │\n",
      "│  \u001b[3m \u001b[0m\u001b[3mDocumentation\u001b[0m\u001b[3m \u001b[0m  Get the status of a Common Crawl indexes query.            │\n",
      "│                                                                              │\n",
      "│  \u001b[3m \u001b[0m\u001b[3mInputs       \u001b[0m\u001b[3m \u001b[0m                                                             │\n",
      "│  \u001b[3m               \u001b[0m   \u001b[1m \u001b[0m\u001b[1mfield    \u001b[0m\u001b[1m \u001b[0m \u001b[1m        \u001b[0m \u001b[1m          \u001b[0m \u001b[1m          \u001b[0m \u001b[1m           \u001b[0m    │\n",
      "│  \u001b[3m               \u001b[0m   \u001b[1m \u001b[0m\u001b[1mname     \u001b[0m\u001b[1m \u001b[0m \u001b[1m \u001b[0m\u001b[1mtype  \u001b[0m\u001b[1m \u001b[0m \u001b[1m \u001b[0m\u001b[1mdescrip…\u001b[0m\u001b[1m \u001b[0m \u001b[1m \u001b[0m\u001b[1mRequired\u001b[0m\u001b[1m \u001b[0m \u001b[1m \u001b[0m\u001b[1mDefault  \u001b[0m\u001b[1m \u001b[0m    │\n",
      "│  \u001b[3m               \u001b[0m   ──────────────────────────────────────────────────────    │\n",
      "│  \u001b[3m               \u001b[0m   \u001b[3m \u001b[0m\u001b[3mcc_query_\u001b[0m\u001b[3m \u001b[0m  string   AWS/Ath…   \u001b[1myes\u001b[0m        -- no         │\n",
      "│  \u001b[3m               \u001b[0m   \u001b[3m \u001b[0m\u001b[3mid       \u001b[0m\u001b[3m \u001b[0m           query                 default       │\n",
      "│  \u001b[3m               \u001b[0m   \u001b[3m           \u001b[0m           id.                   --            │\n",
      "│  \u001b[3m               \u001b[0m   \u001b[3m \u001b[0m\u001b[3maws_acces\u001b[0m\u001b[3m \u001b[0m  string   The AWS    \u001b[1myes\u001b[0m        -- no         │\n",
      "│  \u001b[3m               \u001b[0m   \u001b[3m \u001b[0m\u001b[3ms_key_id \u001b[0m\u001b[3m \u001b[0m           access                default       │\n",
      "│  \u001b[3m               \u001b[0m   \u001b[3m           \u001b[0m           key id.               --            │\n",
      "│  \u001b[3m               \u001b[0m   \u001b[3m \u001b[0m\u001b[3maws_secre\u001b[0m\u001b[3m \u001b[0m  string   The AWS    \u001b[1myes\u001b[0m        -- no         │\n",
      "│  \u001b[3m               \u001b[0m   \u001b[3m \u001b[0m\u001b[3mt_access_\u001b[0m\u001b[3m \u001b[0m           secret                default       │\n",
      "│  \u001b[3m               \u001b[0m   \u001b[3m \u001b[0m\u001b[3mkey      \u001b[0m\u001b[3m \u001b[0m           access                --            │\n",
      "│  \u001b[3m               \u001b[0m   \u001b[3m           \u001b[0m           key.                                │\n",
      "│  \u001b[3m               \u001b[0m                                                             │\n",
      "│                                                                              │\n",
      "│  \u001b[3m \u001b[0m\u001b[3mOutputs      \u001b[0m\u001b[3m \u001b[0m                                                             │\n",
      "│  \u001b[3m               \u001b[0m   \u001b[1m \u001b[0m\u001b[1mfield name     \u001b[0m\u001b[1m \u001b[0m \u001b[1m \u001b[0m\u001b[1mtype\u001b[0m\u001b[1m \u001b[0m \u001b[1m \u001b[0m\u001b[1mdescription                \u001b[0m\u001b[1m \u001b[0m    │\n",
      "│  \u001b[3m               \u001b[0m   ──────────────────────────────────────────────────────    │\n",
      "│  \u001b[3m               \u001b[0m   \u001b[3m \u001b[0m\u001b[3mcc_query_status\u001b[0m\u001b[3m \u001b[0m  dict   -- n/a --                       │\n",
      "│  \u001b[3m               \u001b[0m                                                             │\n",
      "│                                                                              │\n",
      "╰──────────────────────────────────────────────────────────────────────────────╯\n"
     ]
    }
   ],
   "source": [
    "! kiara operation explain onboard.get_cc_query_status"
   ]
  },
  {
   "cell_type": "code",
   "execution_count": 70,
   "metadata": {},
   "outputs": [],
   "source": [
    "# TODO: check why error if the value is entered directly as a string\n",
    "# \"cc_query_id\": '9b18ffd9-98b8-482a-9fdd-803fd7636b91'\n",
    "\n",
    "inputs = {\n",
    "    \"aws_access_key_id\": aws_access_key_id,\n",
    "    \"aws_secret_access_key\": aws_secret_access_key,\n",
    "    # this doesn't work in kiara at the moment \"cc_query_id\": '9b18ffd9-98b8-482a-9fdd-803fd7636b91',\n",
    "    \"cc_query_id\": query_id['cc_query_id'], \n",
    " }"
   ]
  },
  {
   "cell_type": "code",
   "execution_count": 109,
   "metadata": {},
   "outputs": [
    {
     "data": {
      "text/plain": [
       "{'State': 'SUCCEEDED',\n",
       " 'SubmissionDateTime': datetime.datetime(2023, 11, 8, 19, 20, 0, 850000, tzinfo=tzlocal()),\n",
       " 'CompletionDateTime': datetime.datetime(2023, 11, 8, 19, 22, 41, 821000, tzinfo=tzlocal())}"
      ]
     },
     "execution_count": 109,
     "metadata": {},
     "output_type": "execute_result"
    }
   ],
   "source": [
    "# wait until the output of this cell displays \"state: succeeded\" before processing the notebook further\n",
    "query_status = kiara.run_job('onboard.get_cc_query_status', inputs=inputs)\n",
    "query_status.get_value_data('cc_query_status').dict_data['QueryExecution']['Status']"
   ]
  },
  {
   "cell_type": "markdown",
   "metadata": {},
   "source": [
    "### III. Retrieve query results"
   ]
  },
  {
   "cell_type": "markdown",
   "metadata": {},
   "source": [
    "The result of the query (if any) contains the indexes necessary to access the related web pages content."
   ]
  },
  {
   "cell_type": "code",
   "execution_count": 110,
   "metadata": {},
   "outputs": [
    {
     "name": "stdout",
     "output_type": "stream",
     "text": [
      "\n",
      "╭─ Operation: \u001b[1;3monboard.get_cc_query_result\u001b[0m ─────────────────────────────────────╮\n",
      "│                                                                              │\n",
      "│  \u001b[3m \u001b[0m\u001b[3mDocumentation\u001b[0m\u001b[3m \u001b[0m  Get the result of a Common Crawl documents indexes         │\n",
      "│  \u001b[3m               \u001b[0m  query.                                                     │\n",
      "│                                                                              │\n",
      "│  \u001b[3m \u001b[0m\u001b[3mInputs       \u001b[0m\u001b[3m \u001b[0m                                                             │\n",
      "│  \u001b[3m               \u001b[0m   \u001b[1m \u001b[0m\u001b[1mfield    \u001b[0m\u001b[1m \u001b[0m \u001b[1m        \u001b[0m \u001b[1m          \u001b[0m \u001b[1m          \u001b[0m \u001b[1m           \u001b[0m    │\n",
      "│  \u001b[3m               \u001b[0m   \u001b[1m \u001b[0m\u001b[1mname     \u001b[0m\u001b[1m \u001b[0m \u001b[1m \u001b[0m\u001b[1mtype  \u001b[0m\u001b[1m \u001b[0m \u001b[1m \u001b[0m\u001b[1mdescrip…\u001b[0m\u001b[1m \u001b[0m \u001b[1m \u001b[0m\u001b[1mRequired\u001b[0m\u001b[1m \u001b[0m \u001b[1m \u001b[0m\u001b[1mDefault  \u001b[0m\u001b[1m \u001b[0m    │\n",
      "│  \u001b[3m               \u001b[0m   ──────────────────────────────────────────────────────    │\n",
      "│  \u001b[3m               \u001b[0m   \u001b[3m \u001b[0m\u001b[3mcc_query_\u001b[0m\u001b[3m \u001b[0m  string   AWS/Ath…   \u001b[1myes\u001b[0m        -- no         │\n",
      "│  \u001b[3m               \u001b[0m   \u001b[3m \u001b[0m\u001b[3mid       \u001b[0m\u001b[3m \u001b[0m           query                 default       │\n",
      "│  \u001b[3m               \u001b[0m   \u001b[3m           \u001b[0m           id.                   --            │\n",
      "│  \u001b[3m               \u001b[0m   \u001b[3m \u001b[0m\u001b[3maws_acces\u001b[0m\u001b[3m \u001b[0m  string   The AWS    \u001b[1myes\u001b[0m        -- no         │\n",
      "│  \u001b[3m               \u001b[0m   \u001b[3m \u001b[0m\u001b[3ms_key_id \u001b[0m\u001b[3m \u001b[0m           access                default       │\n",
      "│  \u001b[3m               \u001b[0m   \u001b[3m           \u001b[0m           key id.               --            │\n",
      "│  \u001b[3m               \u001b[0m   \u001b[3m \u001b[0m\u001b[3maws_secre\u001b[0m\u001b[3m \u001b[0m  string   The AWS    \u001b[1myes\u001b[0m        -- no         │\n",
      "│  \u001b[3m               \u001b[0m   \u001b[3m \u001b[0m\u001b[3mt_access_\u001b[0m\u001b[3m \u001b[0m           secret                default       │\n",
      "│  \u001b[3m               \u001b[0m   \u001b[3m \u001b[0m\u001b[3mkey      \u001b[0m\u001b[3m \u001b[0m           access                --            │\n",
      "│  \u001b[3m               \u001b[0m   \u001b[3m           \u001b[0m           key.                                │\n",
      "│  \u001b[3m               \u001b[0m                                                             │\n",
      "│                                                                              │\n",
      "│  \u001b[3m \u001b[0m\u001b[3mOutputs      \u001b[0m\u001b[3m \u001b[0m                                                             │\n",
      "│  \u001b[3m               \u001b[0m   \u001b[1m \u001b[0m\u001b[1mfield name     \u001b[0m\u001b[1m \u001b[0m \u001b[1m \u001b[0m\u001b[1mtype\u001b[0m\u001b[1m \u001b[0m \u001b[1m \u001b[0m\u001b[1mdescription                \u001b[0m\u001b[1m \u001b[0m    │\n",
      "│  \u001b[3m               \u001b[0m   ──────────────────────────────────────────────────────    │\n",
      "│  \u001b[3m               \u001b[0m   \u001b[3m \u001b[0m\u001b[3mcc_query_result\u001b[0m\u001b[3m \u001b[0m  dict   -- n/a --                       │\n",
      "│  \u001b[3m               \u001b[0m                                                             │\n",
      "│                                                                              │\n",
      "╰──────────────────────────────────────────────────────────────────────────────╯\n"
     ]
    }
   ],
   "source": [
    "! kiara operation explain onboard.get_cc_query_result"
   ]
  },
  {
   "cell_type": "code",
   "execution_count": 111,
   "metadata": {},
   "outputs": [],
   "source": [
    "query_result = kiara.run_job('onboard.get_cc_query_result', inputs=inputs)"
   ]
  },
  {
   "cell_type": "markdown",
   "metadata": {},
   "source": [
    "### IV. Get web pages content"
   ]
  },
  {
   "cell_type": "markdown",
   "metadata": {},
   "source": [
    "With the exact location in Commoncrawl compressed storage files, it is now possible to retrieve the content of the web pages."
   ]
  },
  {
   "cell_type": "code",
   "execution_count": 112,
   "metadata": {},
   "outputs": [
    {
     "name": "stdout",
     "output_type": "stream",
     "text": [
      "\n",
      "╭─ Operation: \u001b[1;3monboard.get_cc_pages\u001b[0m ────────────────────────────────────────────╮\n",
      "│                                                                              │\n",
      "│  \u001b[3m \u001b[0m\u001b[3mDocumentation\u001b[0m\u001b[3m \u001b[0m  Get the web pages from common crawl indexes.               │\n",
      "│                                                                              │\n",
      "│  \u001b[3m \u001b[0m\u001b[3mInputs       \u001b[0m\u001b[3m \u001b[0m                                                             │\n",
      "│  \u001b[3m               \u001b[0m   \u001b[1m \u001b[0m\u001b[1mfield    \u001b[0m\u001b[1m \u001b[0m \u001b[1m      \u001b[0m \u001b[1m           \u001b[0m \u001b[1m          \u001b[0m \u001b[1m            \u001b[0m    │\n",
      "│  \u001b[3m               \u001b[0m   \u001b[1m \u001b[0m\u001b[1mname     \u001b[0m\u001b[1m \u001b[0m \u001b[1m \u001b[0m\u001b[1mtype\u001b[0m\u001b[1m \u001b[0m \u001b[1m \u001b[0m\u001b[1mdescript…\u001b[0m\u001b[1m \u001b[0m \u001b[1m \u001b[0m\u001b[1mRequired\u001b[0m\u001b[1m \u001b[0m \u001b[1m \u001b[0m\u001b[1mDefault   \u001b[0m\u001b[1m \u001b[0m    │\n",
      "│  \u001b[3m               \u001b[0m   ──────────────────────────────────────────────────────    │\n",
      "│  \u001b[3m               \u001b[0m   \u001b[3m \u001b[0m\u001b[3mcc_query_\u001b[0m\u001b[3m \u001b[0m  dict   Web pages   \u001b[1myes\u001b[0m        -- no          │\n",
      "│  \u001b[3m               \u001b[0m   \u001b[3m \u001b[0m\u001b[3mresult   \u001b[0m\u001b[3m \u001b[0m         retrieved              default --     │\n",
      "│  \u001b[3m               \u001b[0m   \u001b[3m           \u001b[0m         from                                  │\n",
      "│  \u001b[3m               \u001b[0m   \u001b[3m           \u001b[0m         commoncr…                             │\n",
      "│  \u001b[3m               \u001b[0m                                                             │\n",
      "│                                                                              │\n",
      "│  \u001b[3m \u001b[0m\u001b[3mOutputs      \u001b[0m\u001b[3m \u001b[0m                                                             │\n",
      "│  \u001b[3m               \u001b[0m   \u001b[1m \u001b[0m\u001b[1mfield name    \u001b[0m\u001b[1m \u001b[0m \u001b[1m \u001b[0m\u001b[1mtype\u001b[0m\u001b[1m \u001b[0m \u001b[1m \u001b[0m\u001b[1mdescription                 \u001b[0m\u001b[1m \u001b[0m    │\n",
      "│  \u001b[3m               \u001b[0m   ──────────────────────────────────────────────────────    │\n",
      "│  \u001b[3m               \u001b[0m   \u001b[3m \u001b[0m\u001b[3mcc_query_pages\u001b[0m\u001b[3m \u001b[0m  dict   -- n/a --                        │\n",
      "│  \u001b[3m               \u001b[0m                                                             │\n",
      "│                                                                              │\n",
      "╰──────────────────────────────────────────────────────────────────────────────╯\n"
     ]
    }
   ],
   "source": [
    "! kiara operation explain onboard.get_cc_pages"
   ]
  },
  {
   "cell_type": "code",
   "execution_count": 113,
   "metadata": {},
   "outputs": [],
   "source": [
    "inputs = {\n",
    "    \"cc_query_result\": query_result['cc_query_result'],\n",
    " }"
   ]
  },
  {
   "cell_type": "code",
   "execution_count": 114,
   "metadata": {},
   "outputs": [],
   "source": [
    "query_pages = kiara.run_job('onboard.get_cc_pages', inputs=inputs)"
   ]
  },
  {
   "cell_type": "code",
   "execution_count": 115,
   "metadata": {},
   "outputs": [],
   "source": [
    "cc_filename = query_pages['cc_query_pages'].data.dict_data['cc_filename']"
   ]
  },
  {
   "cell_type": "code",
   "execution_count": 116,
   "metadata": {},
   "outputs": [],
   "source": [
    "web_page = query_pages['cc_query_pages'].data.dict_data['web_page']"
   ]
  },
  {
   "cell_type": "code",
   "execution_count": 117,
   "metadata": {},
   "outputs": [],
   "source": [
    "status = query_pages['cc_query_pages'].data.dict_data['status']"
   ]
  },
  {
   "cell_type": "code",
   "execution_count": 118,
   "metadata": {},
   "outputs": [],
   "source": [
    "# process below is temporary just to have a quick look at the output\n",
    "# I didn't put pandas as a dependency"
   ]
  },
  {
   "cell_type": "code",
   "execution_count": 119,
   "metadata": {},
   "outputs": [],
   "source": [
    "import pandas as pd"
   ]
  },
  {
   "cell_type": "code",
   "execution_count": 120,
   "metadata": {},
   "outputs": [],
   "source": [
    "df = pd.DataFrame({'cc_filename': cc_filename, 'web_page': web_page, 'status': status})"
   ]
  },
  {
   "cell_type": "code",
   "execution_count": 121,
   "metadata": {},
   "outputs": [],
   "source": [
    "df['word_count'] = df['web_page'].str.len()"
   ]
  },
  {
   "cell_type": "code",
   "execution_count": 122,
   "metadata": {},
   "outputs": [],
   "source": [
    "res_preview = df[df['status'] == 'success'].sort_values(by=['word_count'], ascending=False).copy()"
   ]
  },
  {
   "cell_type": "code",
   "execution_count": 123,
   "metadata": {},
   "outputs": [
    {
     "data": {
      "text/html": [
       "<div>\n",
       "<style scoped>\n",
       "    .dataframe tbody tr th:only-of-type {\n",
       "        vertical-align: middle;\n",
       "    }\n",
       "\n",
       "    .dataframe tbody tr th {\n",
       "        vertical-align: top;\n",
       "    }\n",
       "\n",
       "    .dataframe thead th {\n",
       "        text-align: right;\n",
       "    }\n",
       "</style>\n",
       "<table border=\"1\" class=\"dataframe\">\n",
       "  <thead>\n",
       "    <tr style=\"text-align: right;\">\n",
       "      <th></th>\n",
       "      <th>cc_filename</th>\n",
       "      <th>web_page</th>\n",
       "      <th>status</th>\n",
       "      <th>word_count</th>\n",
       "    </tr>\n",
       "  </thead>\n",
       "  <tbody>\n",
       "    <tr>\n",
       "      <th>205</th>\n",
       "      <td>crawl-data/CC-MAIN-2017-13/segments/1490218186...</td>\n",
       "      <td>WARC/1.0\\r\\nWARC-Type: response\\r\\nWARC-Date: ...</td>\n",
       "      <td>success</td>\n",
       "      <td>80360.0</td>\n",
       "    </tr>\n",
       "    <tr>\n",
       "      <th>373</th>\n",
       "      <td>crawl-data/CC-MAIN-2018-13/segments/1521257647...</td>\n",
       "      <td>WARC/1.0\\r\\nWARC-Type: response\\r\\nWARC-Date: ...</td>\n",
       "      <td>success</td>\n",
       "      <td>80225.0</td>\n",
       "    </tr>\n",
       "    <tr>\n",
       "      <th>406</th>\n",
       "      <td>crawl-data/CC-MAIN-2019-43/segments/1570987795...</td>\n",
       "      <td>WARC/1.0\\r\\nWARC-Type: response\\r\\nWARC-Date: ...</td>\n",
       "      <td>success</td>\n",
       "      <td>68455.0</td>\n",
       "    </tr>\n",
       "    <tr>\n",
       "      <th>344</th>\n",
       "      <td>crawl-data/CC-MAIN-2019-47/segments/1573496668...</td>\n",
       "      <td>WARC/1.0\\r\\nWARC-Type: response\\r\\nWARC-Date: ...</td>\n",
       "      <td>success</td>\n",
       "      <td>68428.0</td>\n",
       "    </tr>\n",
       "    <tr>\n",
       "      <th>799</th>\n",
       "      <td>crawl-data/CC-MAIN-2013-48/segments/1386164346...</td>\n",
       "      <td>WARC/1.0\\r\\nWARC-Type: response\\r\\nWARC-Date: ...</td>\n",
       "      <td>success</td>\n",
       "      <td>66901.0</td>\n",
       "    </tr>\n",
       "    <tr>\n",
       "      <th>797</th>\n",
       "      <td>crawl-data/CC-MAIN-2013-48/segments/1386163052...</td>\n",
       "      <td>WARC/1.0\\r\\nWARC-Type: response\\r\\nWARC-Date: ...</td>\n",
       "      <td>success</td>\n",
       "      <td>61802.0</td>\n",
       "    </tr>\n",
       "    <tr>\n",
       "      <th>798</th>\n",
       "      <td>crawl-data/CC-MAIN-2013-48/segments/1386164019...</td>\n",
       "      <td>WARC/1.0\\r\\nWARC-Type: response\\r\\nWARC-Date: ...</td>\n",
       "      <td>success</td>\n",
       "      <td>61005.0</td>\n",
       "    </tr>\n",
       "    <tr>\n",
       "      <th>637</th>\n",
       "      <td>crawl-data/CC-MAIN-2013-20/segments/1368696382...</td>\n",
       "      <td>WARC/1.0\\r\\nWARC-Type: response\\r\\nWARC-Date: ...</td>\n",
       "      <td>success</td>\n",
       "      <td>58859.0</td>\n",
       "    </tr>\n",
       "    <tr>\n",
       "      <th>636</th>\n",
       "      <td>crawl-data/CC-MAIN-2013-20/segments/1368699776...</td>\n",
       "      <td>WARC/1.0\\r\\nWARC-Type: response\\r\\nWARC-Date: ...</td>\n",
       "      <td>success</td>\n",
       "      <td>53833.0</td>\n",
       "    </tr>\n",
       "    <tr>\n",
       "      <th>635</th>\n",
       "      <td>crawl-data/CC-MAIN-2013-20/segments/1368699924...</td>\n",
       "      <td>WARC/1.0\\r\\nWARC-Type: response\\r\\nWARC-Date: ...</td>\n",
       "      <td>success</td>\n",
       "      <td>53586.0</td>\n",
       "    </tr>\n",
       "    <tr>\n",
       "      <th>800</th>\n",
       "      <td>crawl-data/CC-MAIN-2013-48/segments/1386164954...</td>\n",
       "      <td>WARC/1.0\\r\\nWARC-Type: response\\r\\nWARC-Date: ...</td>\n",
       "      <td>success</td>\n",
       "      <td>51820.0</td>\n",
       "    </tr>\n",
       "    <tr>\n",
       "      <th>802</th>\n",
       "      <td>crawl-data/CC-MAIN-2013-48/segments/1386164580...</td>\n",
       "      <td>WARC/1.0\\r\\nWARC-Type: response\\r\\nWARC-Date: ...</td>\n",
       "      <td>success</td>\n",
       "      <td>51758.0</td>\n",
       "    </tr>\n",
       "    <tr>\n",
       "      <th>801</th>\n",
       "      <td>crawl-data/CC-MAIN-2013-48/segments/1386164844...</td>\n",
       "      <td>WARC/1.0\\r\\nWARC-Type: response\\r\\nWARC-Date: ...</td>\n",
       "      <td>success</td>\n",
       "      <td>51697.0</td>\n",
       "    </tr>\n",
       "    <tr>\n",
       "      <th>202</th>\n",
       "      <td>crawl-data/CC-MAIN-2015-32/segments/1438042986...</td>\n",
       "      <td>WARC/1.0\\r\\nWARC-Type: response\\r\\nWARC-Date: ...</td>\n",
       "      <td>success</td>\n",
       "      <td>44867.0</td>\n",
       "    </tr>\n",
       "    <tr>\n",
       "      <th>200</th>\n",
       "      <td>crawl-data/CC-MAIN-2015-32/segments/1438042990...</td>\n",
       "      <td>WARC/1.0\\r\\nWARC-Type: response\\r\\nWARC-Date: ...</td>\n",
       "      <td>success</td>\n",
       "      <td>44811.0</td>\n",
       "    </tr>\n",
       "    <tr>\n",
       "      <th>196</th>\n",
       "      <td>crawl-data/CC-MAIN-2015-32/segments/1438042981...</td>\n",
       "      <td>WARC/1.0\\r\\nWARC-Type: response\\r\\nWARC-Date: ...</td>\n",
       "      <td>success</td>\n",
       "      <td>44787.0</td>\n",
       "    </tr>\n",
       "    <tr>\n",
       "      <th>199</th>\n",
       "      <td>crawl-data/CC-MAIN-2015-32/segments/1438042985...</td>\n",
       "      <td>WARC/1.0\\r\\nWARC-Type: response\\r\\nWARC-Date: ...</td>\n",
       "      <td>success</td>\n",
       "      <td>44781.0</td>\n",
       "    </tr>\n",
       "    <tr>\n",
       "      <th>201</th>\n",
       "      <td>crawl-data/CC-MAIN-2015-32/segments/1438042987...</td>\n",
       "      <td>WARC/1.0\\r\\nWARC-Type: response\\r\\nWARC-Date: ...</td>\n",
       "      <td>success</td>\n",
       "      <td>44773.0</td>\n",
       "    </tr>\n",
       "    <tr>\n",
       "      <th>240</th>\n",
       "      <td>crawl-data/CC-MAIN-2015-35/segments/1440644065...</td>\n",
       "      <td>WARC/1.0\\r\\nWARC-Type: response\\r\\nWARC-Date: ...</td>\n",
       "      <td>success</td>\n",
       "      <td>44721.0</td>\n",
       "    </tr>\n",
       "    <tr>\n",
       "      <th>239</th>\n",
       "      <td>crawl-data/CC-MAIN-2015-35/segments/1440645167...</td>\n",
       "      <td>WARC/1.0\\r\\nWARC-Type: response\\r\\nWARC-Date: ...</td>\n",
       "      <td>success</td>\n",
       "      <td>44720.0</td>\n",
       "    </tr>\n",
       "    <tr>\n",
       "      <th>198</th>\n",
       "      <td>crawl-data/CC-MAIN-2015-32/segments/1438042989...</td>\n",
       "      <td>WARC/1.0\\r\\nWARC-Type: response\\r\\nWARC-Date: ...</td>\n",
       "      <td>success</td>\n",
       "      <td>44687.0</td>\n",
       "    </tr>\n",
       "    <tr>\n",
       "      <th>238</th>\n",
       "      <td>crawl-data/CC-MAIN-2015-35/segments/1440645265...</td>\n",
       "      <td>WARC/1.0\\r\\nWARC-Type: response\\r\\nWARC-Date: ...</td>\n",
       "      <td>success</td>\n",
       "      <td>44683.0</td>\n",
       "    </tr>\n",
       "    <tr>\n",
       "      <th>235</th>\n",
       "      <td>crawl-data/CC-MAIN-2015-35/segments/1440644064...</td>\n",
       "      <td>WARC/1.0\\r\\nWARC-Type: response\\r\\nWARC-Date: ...</td>\n",
       "      <td>success</td>\n",
       "      <td>44634.0</td>\n",
       "    </tr>\n",
       "    <tr>\n",
       "      <th>236</th>\n",
       "      <td>crawl-data/CC-MAIN-2015-35/segments/1440645328...</td>\n",
       "      <td>WARC/1.0\\r\\nWARC-Type: response\\r\\nWARC-Date: ...</td>\n",
       "      <td>success</td>\n",
       "      <td>44576.0</td>\n",
       "    </tr>\n",
       "    <tr>\n",
       "      <th>237</th>\n",
       "      <td>crawl-data/CC-MAIN-2015-35/segments/1440645323...</td>\n",
       "      <td>WARC/1.0\\r\\nWARC-Type: response\\r\\nWARC-Date: ...</td>\n",
       "      <td>success</td>\n",
       "      <td>44576.0</td>\n",
       "    </tr>\n",
       "    <tr>\n",
       "      <th>127</th>\n",
       "      <td>crawl-data/CC-MAIN-2016-18/segments/1461863352...</td>\n",
       "      <td>WARC/1.0\\r\\nWARC-Type: response\\r\\nWARC-Date: ...</td>\n",
       "      <td>success</td>\n",
       "      <td>44500.0</td>\n",
       "    </tr>\n",
       "    <tr>\n",
       "      <th>128</th>\n",
       "      <td>crawl-data/CC-MAIN-2016-18/segments/1461860111...</td>\n",
       "      <td>WARC/1.0\\r\\nWARC-Type: response\\r\\nWARC-Date: ...</td>\n",
       "      <td>success</td>\n",
       "      <td>44497.0</td>\n",
       "    </tr>\n",
       "    <tr>\n",
       "      <th>203</th>\n",
       "      <td>crawl-data/CC-MAIN-2015-32/segments/1438042986...</td>\n",
       "      <td>WARC/1.0\\r\\nWARC-Type: response\\r\\nWARC-Date: ...</td>\n",
       "      <td>success</td>\n",
       "      <td>44441.0</td>\n",
       "    </tr>\n",
       "    <tr>\n",
       "      <th>241</th>\n",
       "      <td>crawl-data/CC-MAIN-2015-35/segments/1440644065...</td>\n",
       "      <td>WARC/1.0\\r\\nWARC-Type: response\\r\\nWARC-Date: ...</td>\n",
       "      <td>success</td>\n",
       "      <td>44335.0</td>\n",
       "    </tr>\n",
       "    <tr>\n",
       "      <th>341</th>\n",
       "      <td>crawl-data/CC-MAIN-2016-40/segments/1474738660...</td>\n",
       "      <td>WARC/1.0\\r\\nWARC-Type: response\\r\\nWARC-Date: ...</td>\n",
       "      <td>success</td>\n",
       "      <td>43949.0</td>\n",
       "    </tr>\n",
       "  </tbody>\n",
       "</table>\n",
       "</div>"
      ],
      "text/plain": [
       "                                           cc_filename  \\\n",
       "205  crawl-data/CC-MAIN-2017-13/segments/1490218186...   \n",
       "373  crawl-data/CC-MAIN-2018-13/segments/1521257647...   \n",
       "406  crawl-data/CC-MAIN-2019-43/segments/1570987795...   \n",
       "344  crawl-data/CC-MAIN-2019-47/segments/1573496668...   \n",
       "799  crawl-data/CC-MAIN-2013-48/segments/1386164346...   \n",
       "797  crawl-data/CC-MAIN-2013-48/segments/1386163052...   \n",
       "798  crawl-data/CC-MAIN-2013-48/segments/1386164019...   \n",
       "637  crawl-data/CC-MAIN-2013-20/segments/1368696382...   \n",
       "636  crawl-data/CC-MAIN-2013-20/segments/1368699776...   \n",
       "635  crawl-data/CC-MAIN-2013-20/segments/1368699924...   \n",
       "800  crawl-data/CC-MAIN-2013-48/segments/1386164954...   \n",
       "802  crawl-data/CC-MAIN-2013-48/segments/1386164580...   \n",
       "801  crawl-data/CC-MAIN-2013-48/segments/1386164844...   \n",
       "202  crawl-data/CC-MAIN-2015-32/segments/1438042986...   \n",
       "200  crawl-data/CC-MAIN-2015-32/segments/1438042990...   \n",
       "196  crawl-data/CC-MAIN-2015-32/segments/1438042981...   \n",
       "199  crawl-data/CC-MAIN-2015-32/segments/1438042985...   \n",
       "201  crawl-data/CC-MAIN-2015-32/segments/1438042987...   \n",
       "240  crawl-data/CC-MAIN-2015-35/segments/1440644065...   \n",
       "239  crawl-data/CC-MAIN-2015-35/segments/1440645167...   \n",
       "198  crawl-data/CC-MAIN-2015-32/segments/1438042989...   \n",
       "238  crawl-data/CC-MAIN-2015-35/segments/1440645265...   \n",
       "235  crawl-data/CC-MAIN-2015-35/segments/1440644064...   \n",
       "236  crawl-data/CC-MAIN-2015-35/segments/1440645328...   \n",
       "237  crawl-data/CC-MAIN-2015-35/segments/1440645323...   \n",
       "127  crawl-data/CC-MAIN-2016-18/segments/1461863352...   \n",
       "128  crawl-data/CC-MAIN-2016-18/segments/1461860111...   \n",
       "203  crawl-data/CC-MAIN-2015-32/segments/1438042986...   \n",
       "241  crawl-data/CC-MAIN-2015-35/segments/1440644065...   \n",
       "341  crawl-data/CC-MAIN-2016-40/segments/1474738660...   \n",
       "\n",
       "                                              web_page   status  word_count  \n",
       "205  WARC/1.0\\r\\nWARC-Type: response\\r\\nWARC-Date: ...  success     80360.0  \n",
       "373  WARC/1.0\\r\\nWARC-Type: response\\r\\nWARC-Date: ...  success     80225.0  \n",
       "406  WARC/1.0\\r\\nWARC-Type: response\\r\\nWARC-Date: ...  success     68455.0  \n",
       "344  WARC/1.0\\r\\nWARC-Type: response\\r\\nWARC-Date: ...  success     68428.0  \n",
       "799  WARC/1.0\\r\\nWARC-Type: response\\r\\nWARC-Date: ...  success     66901.0  \n",
       "797  WARC/1.0\\r\\nWARC-Type: response\\r\\nWARC-Date: ...  success     61802.0  \n",
       "798  WARC/1.0\\r\\nWARC-Type: response\\r\\nWARC-Date: ...  success     61005.0  \n",
       "637  WARC/1.0\\r\\nWARC-Type: response\\r\\nWARC-Date: ...  success     58859.0  \n",
       "636  WARC/1.0\\r\\nWARC-Type: response\\r\\nWARC-Date: ...  success     53833.0  \n",
       "635  WARC/1.0\\r\\nWARC-Type: response\\r\\nWARC-Date: ...  success     53586.0  \n",
       "800  WARC/1.0\\r\\nWARC-Type: response\\r\\nWARC-Date: ...  success     51820.0  \n",
       "802  WARC/1.0\\r\\nWARC-Type: response\\r\\nWARC-Date: ...  success     51758.0  \n",
       "801  WARC/1.0\\r\\nWARC-Type: response\\r\\nWARC-Date: ...  success     51697.0  \n",
       "202  WARC/1.0\\r\\nWARC-Type: response\\r\\nWARC-Date: ...  success     44867.0  \n",
       "200  WARC/1.0\\r\\nWARC-Type: response\\r\\nWARC-Date: ...  success     44811.0  \n",
       "196  WARC/1.0\\r\\nWARC-Type: response\\r\\nWARC-Date: ...  success     44787.0  \n",
       "199  WARC/1.0\\r\\nWARC-Type: response\\r\\nWARC-Date: ...  success     44781.0  \n",
       "201  WARC/1.0\\r\\nWARC-Type: response\\r\\nWARC-Date: ...  success     44773.0  \n",
       "240  WARC/1.0\\r\\nWARC-Type: response\\r\\nWARC-Date: ...  success     44721.0  \n",
       "239  WARC/1.0\\r\\nWARC-Type: response\\r\\nWARC-Date: ...  success     44720.0  \n",
       "198  WARC/1.0\\r\\nWARC-Type: response\\r\\nWARC-Date: ...  success     44687.0  \n",
       "238  WARC/1.0\\r\\nWARC-Type: response\\r\\nWARC-Date: ...  success     44683.0  \n",
       "235  WARC/1.0\\r\\nWARC-Type: response\\r\\nWARC-Date: ...  success     44634.0  \n",
       "236  WARC/1.0\\r\\nWARC-Type: response\\r\\nWARC-Date: ...  success     44576.0  \n",
       "237  WARC/1.0\\r\\nWARC-Type: response\\r\\nWARC-Date: ...  success     44576.0  \n",
       "127  WARC/1.0\\r\\nWARC-Type: response\\r\\nWARC-Date: ...  success     44500.0  \n",
       "128  WARC/1.0\\r\\nWARC-Type: response\\r\\nWARC-Date: ...  success     44497.0  \n",
       "203  WARC/1.0\\r\\nWARC-Type: response\\r\\nWARC-Date: ...  success     44441.0  \n",
       "241  WARC/1.0\\r\\nWARC-Type: response\\r\\nWARC-Date: ...  success     44335.0  \n",
       "341  WARC/1.0\\r\\nWARC-Type: response\\r\\nWARC-Date: ...  success     43949.0  "
      ]
     },
     "execution_count": 123,
     "metadata": {},
     "output_type": "execute_result"
    }
   ],
   "source": [
    "res_preview.head(30)"
   ]
  },
  {
   "cell_type": "code",
   "execution_count": 124,
   "metadata": {},
   "outputs": [],
   "source": [
    "res_preview.to_csv('web_pages.csv')"
   ]
  }
 ],
 "metadata": {
  "kernelspec": {
   "display_name": "kiara_onboarding",
   "language": "python",
   "name": "python3"
  },
  "language_info": {
   "codemirror_mode": {
    "name": "ipython",
    "version": 3
   },
   "file_extension": ".py",
   "mimetype": "text/x-python",
   "name": "python",
   "nbconvert_exporter": "python",
   "pygments_lexer": "ipython3",
   "version": "3.11.0"
  },
  "orig_nbformat": 4
 },
 "nbformat": 4,
 "nbformat_minor": 2
}

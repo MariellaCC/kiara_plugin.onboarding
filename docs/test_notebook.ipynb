{
 "cells": [
  {
   "cell_type": "markdown",
   "metadata": {},
   "source": [
    "## Retrieve crawled web pages (2009-present) via Commoncrawl/AWS/Athena"
   ]
  },
  {
   "cell_type": "markdown",
   "metadata": {},
   "source": [
    "This process uses Kiara to access and retrieve web pages indexed by [Commoncrawl](https://commoncrawl.org/). Users can perform a SQL query on Commoncrawl stored documents to retrieve the indexes of web pages. It is then possible to retrieve the corresponding web pages.<br>\n",
    "The querying process may trigger billing by AWS since it uses Athena services to scan Commoncrawl stored data (5.00 USD per Terabytes, Oct. 2023)."
   ]
  },
  {
   "cell_type": "code",
   "execution_count": 3,
   "metadata": {},
   "outputs": [],
   "source": [
    "from kiara.api import KiaraAPI\n",
    "kiara = KiaraAPI.instance()"
   ]
  },
  {
   "cell_type": "markdown",
   "metadata": {},
   "source": [
    "### AWS Credentials"
   ]
  },
  {
   "cell_type": "code",
   "execution_count": 8,
   "metadata": {},
   "outputs": [],
   "source": [
    "aws_access_key_id = 'myawsaccesskey'\n",
    "aws_secret_access_key = 'myawssecretaccesskey'\n",
    "aws_s3_bucket = 'mys3bucket'\n",
    "# the name of the database to create\n",
    "db_name = 'cc_test'\n",
    "# the name of the table to store query results\n",
    "table_name = 'mossfon'"
   ]
  },
  {
   "cell_type": "markdown",
   "metadata": {},
   "source": [
    "### Query set-up to scan crawled data files"
   ]
  },
  {
   "cell_type": "markdown",
   "metadata": {},
   "source": [
    "In the following example, Athena will scan for Commoncrawl web pages for the domain name \"mossfon.com\" and limit the results to 10. Since no period is indicated, it will look at the whole Commoncrawl data from 2009 to now. See https://commoncrawl.org/blog/index-to-warc-files-and-urls-in-columnar-format for more information and more examples of queries."
   ]
  },
  {
   "cell_type": "code",
   "execution_count": 4,
   "metadata": {},
   "outputs": [],
   "source": [
    "query= f\"\"\"\n",
    "SELECT *\n",
    "FROM {db_name}.{table_name}\n",
    "WHERE url_host_registered_domain = 'mossfon.com'\n",
    "LIMIT 10\n",
    "\"\"\""
   ]
  },
  {
   "cell_type": "markdown",
   "metadata": {},
   "source": [
    "### I. Execute Athena query to find content on Commoncrawl"
   ]
  },
  {
   "cell_type": "code",
   "execution_count": 4,
   "metadata": {},
   "outputs": [
    {
     "name": "stdout",
     "output_type": "stream",
     "text": [
      "\n",
      "╭─ Operation: \u001b[1;3monboard.run_cc_query\u001b[0m ────────────────────────────────────────────╮\n",
      "│                                                                              │\n",
      "│  \u001b[3m \u001b[0m\u001b[3mDocumentation\u001b[0m\u001b[3m \u001b[0m  Execute a Common Crawl indexes query via Amazon Web        │\n",
      "│  \u001b[3m               \u001b[0m  Services (AWS) and Athena.                                 │\n",
      "│  \u001b[3m               \u001b[0m                                                             │\n",
      "│  \u001b[3m               \u001b[0m  This process requires an AWS account and an S3 bucket.     │\n",
      "│  \u001b[3m               \u001b[0m  It may trigger some fees billed by AWS.                    │\n",
      "│  \u001b[3m               \u001b[0m  Additional information on the process followed available   │\n",
      "│  \u001b[3m               \u001b[0m  at:                                                        │\n",
      "│  \u001b[3m               \u001b[0m  https://commoncrawl.org/2018/03/index-to-warc-files-and…   │\n",
      "│                                                                              │\n",
      "│  \u001b[3m \u001b[0m\u001b[3mInputs       \u001b[0m\u001b[3m \u001b[0m                                                             │\n",
      "│  \u001b[3m               \u001b[0m   \u001b[1m \u001b[0m\u001b[1mfield    \u001b[0m\u001b[1m \u001b[0m \u001b[1m        \u001b[0m \u001b[1m          \u001b[0m \u001b[1m          \u001b[0m \u001b[1m           \u001b[0m    │\n",
      "│  \u001b[3m               \u001b[0m   \u001b[1m \u001b[0m\u001b[1mname     \u001b[0m\u001b[1m \u001b[0m \u001b[1m \u001b[0m\u001b[1mtype  \u001b[0m\u001b[1m \u001b[0m \u001b[1m \u001b[0m\u001b[1mdescrip…\u001b[0m\u001b[1m \u001b[0m \u001b[1m \u001b[0m\u001b[1mRequired\u001b[0m\u001b[1m \u001b[0m \u001b[1m \u001b[0m\u001b[1mDefault  \u001b[0m\u001b[1m \u001b[0m    │\n",
      "│  \u001b[3m               \u001b[0m   ──────────────────────────────────────────────────────    │\n",
      "│  \u001b[3m               \u001b[0m   \u001b[3m \u001b[0m\u001b[3mquery    \u001b[0m\u001b[3m \u001b[0m  string   The        \u001b[1myes\u001b[0m        -- no         │\n",
      "│  \u001b[3m               \u001b[0m   \u001b[3m           \u001b[0m           query to              default       │\n",
      "│  \u001b[3m               \u001b[0m   \u001b[3m           \u001b[0m           run on                --            │\n",
      "│  \u001b[3m               \u001b[0m   \u001b[3m           \u001b[0m           AWS/Ath…                            │\n",
      "│  \u001b[3m               \u001b[0m   \u001b[3m \u001b[0m\u001b[3maws_acces\u001b[0m\u001b[3m \u001b[0m  string   The AWS    \u001b[1myes\u001b[0m        -- no         │\n",
      "│  \u001b[3m               \u001b[0m   \u001b[3m \u001b[0m\u001b[3ms_key_id \u001b[0m\u001b[3m \u001b[0m           access                default       │\n",
      "│  \u001b[3m               \u001b[0m   \u001b[3m           \u001b[0m           key id.               --            │\n",
      "│  \u001b[3m               \u001b[0m   \u001b[3m \u001b[0m\u001b[3maws_secre\u001b[0m\u001b[3m \u001b[0m  string   The AWS    \u001b[1myes\u001b[0m        -- no         │\n",
      "│  \u001b[3m               \u001b[0m   \u001b[3m \u001b[0m\u001b[3mt_access_\u001b[0m\u001b[3m \u001b[0m           secret                default       │\n",
      "│  \u001b[3m               \u001b[0m   \u001b[3m \u001b[0m\u001b[3mkey      \u001b[0m\u001b[3m \u001b[0m           access                --            │\n",
      "│  \u001b[3m               \u001b[0m   \u001b[3m           \u001b[0m           key.                                │\n",
      "│  \u001b[3m               \u001b[0m   \u001b[3m \u001b[0m\u001b[3maws_s3_bu\u001b[0m\u001b[3m \u001b[0m  string   Name of    \u001b[1myes\u001b[0m        -- no         │\n",
      "│  \u001b[3m               \u001b[0m   \u001b[3m \u001b[0m\u001b[3mcket     \u001b[0m\u001b[3m \u001b[0m           S3                    default       │\n",
      "│  \u001b[3m               \u001b[0m   \u001b[3m           \u001b[0m           bucket                --            │\n",
      "│  \u001b[3m               \u001b[0m   \u001b[3m           \u001b[0m           to store                            │\n",
      "│  \u001b[3m               \u001b[0m   \u001b[3m           \u001b[0m           results.                            │\n",
      "│  \u001b[3m               \u001b[0m   \u001b[3m \u001b[0m\u001b[3mdb_name  \u001b[0m\u001b[3m \u001b[0m  string   Name of    \u001b[1myes\u001b[0m        -- no         │\n",
      "│  \u001b[3m               \u001b[0m   \u001b[3m           \u001b[0m           the                   default       │\n",
      "│  \u001b[3m               \u001b[0m   \u001b[3m           \u001b[0m           database              --            │\n",
      "│  \u001b[3m               \u001b[0m   \u001b[3m           \u001b[0m           to                                  │\n",
      "│  \u001b[3m               \u001b[0m   \u001b[3m           \u001b[0m           create.                             │\n",
      "│  \u001b[3m               \u001b[0m   \u001b[3m \u001b[0m\u001b[3mtable_nam\u001b[0m\u001b[3m \u001b[0m  string   Name of    \u001b[1myes\u001b[0m        -- no         │\n",
      "│  \u001b[3m               \u001b[0m   \u001b[3m \u001b[0m\u001b[3me        \u001b[0m\u001b[3m \u001b[0m           the                   default       │\n",
      "│  \u001b[3m               \u001b[0m   \u001b[3m           \u001b[0m           table to              --            │\n",
      "│  \u001b[3m               \u001b[0m   \u001b[3m           \u001b[0m           create.                             │\n",
      "│  \u001b[3m               \u001b[0m                                                             │\n",
      "│                                                                              │\n",
      "│  \u001b[3m \u001b[0m\u001b[3mOutputs      \u001b[0m\u001b[3m \u001b[0m                                                             │\n",
      "│  \u001b[3m               \u001b[0m   \u001b[1m \u001b[0m\u001b[1mfield name \u001b[0m\u001b[1m \u001b[0m \u001b[1m \u001b[0m\u001b[1mtype  \u001b[0m\u001b[1m \u001b[0m \u001b[1m \u001b[0m\u001b[1mdescription                  \u001b[0m\u001b[1m \u001b[0m    │\n",
      "│  \u001b[3m               \u001b[0m   ──────────────────────────────────────────────────────    │\n",
      "│  \u001b[3m               \u001b[0m   \u001b[3m \u001b[0m\u001b[3mcc_query_id\u001b[0m\u001b[3m \u001b[0m  string   -- n/a --                         │\n",
      "│  \u001b[3m               \u001b[0m                                                             │\n",
      "│                                                                              │\n",
      "╰──────────────────────────────────────────────────────────────────────────────╯\n"
     ]
    }
   ],
   "source": [
    "! kiara operation explain onboard.run_cc_query"
   ]
  },
  {
   "cell_type": "code",
   "execution_count": 5,
   "metadata": {},
   "outputs": [],
   "source": [
    "inputs = {\n",
    "    \"aws_access_key_id\": aws_access_key_id,\n",
    "    \"aws_secret_access_key\": aws_secret_access_key,\n",
    "    \"aws_s3_bucket\": aws_s3_bucket,\n",
    "    \"query\": query,\n",
    "    \"db_name\": db_name,\n",
    "    \"table_name\": table_name,\n",
    " }"
   ]
  },
  {
   "cell_type": "code",
   "execution_count": 6,
   "metadata": {},
   "outputs": [],
   "source": [
    "query_id = kiara.run_job('onboard.run_cc_query', inputs=inputs)"
   ]
  },
  {
   "cell_type": "code",
   "execution_count": 7,
   "metadata": {},
   "outputs": [
    {
     "data": {
      "text/html": [
       "<pre style=\"white-space:pre;overflow-x:auto;line-height:normal;font-family:Menlo,'DejaVu Sans Mono',consolas,'Courier New',monospace\">╭──────────────────────────────────────────────────────────────────────────────────────────────────────────────────────────────────────────╮\n",
       "│                                                                                                                                          │\n",
       "│  <span style=\"font-weight: bold\"> field       </span> <span style=\"font-weight: bold\"> value                                </span>                                                                                    │\n",
       "│  ────────────────────────────────────────────────────                                                                                    │\n",
       "│  <span style=\"font-weight: bold\"> cc_query_id </span> <span style=\"font-style: italic\"> 2c4f7358-b8fb-4f16-9606-76c87af347fa </span>                                                                                    │\n",
       "│                                                                                                                                          │\n",
       "╰──────────────────────────────────────────────────────────────────────────────────────────────────────────────────────────────────────────╯\n",
       "</pre>\n"
      ],
      "text/plain": [
       "╭──────────────────────────────────────────────────────────────────────────────────────────────────────────────────────────────────────────╮\n",
       "│                                                                                                                                          │\n",
       "│  \u001b[1m \u001b[0m\u001b[1mfield      \u001b[0m\u001b[1m \u001b[0m \u001b[1m \u001b[0m\u001b[1mvalue                               \u001b[0m\u001b[1m \u001b[0m                                                                                    │\n",
       "│  ────────────────────────────────────────────────────                                                                                    │\n",
       "│  \u001b[1m \u001b[0m\u001b[1mcc_query_id\u001b[0m\u001b[1m \u001b[0m \u001b[3m \u001b[0m\u001b[3m2c4f7358-b8fb-4f16-9606-76c87af347fa\u001b[0m\u001b[3m \u001b[0m                                                                                    │\n",
       "│                                                                                                                                          │\n",
       "╰──────────────────────────────────────────────────────────────────────────────────────────────────────────────────────────────────────────╯\n"
      ]
     },
     "execution_count": 7,
     "metadata": {},
     "output_type": "execute_result"
    }
   ],
   "source": [
    "query_id"
   ]
  },
  {
   "cell_type": "code",
   "execution_count": 8,
   "metadata": {},
   "outputs": [
    {
     "data": {
      "text/plain": [
       "'2c4f7358-b8fb-4f16-9606-76c87af347fa'"
      ]
     },
     "execution_count": 8,
     "metadata": {},
     "output_type": "execute_result"
    }
   ],
   "source": [
    "query_id['cc_query_id'].data"
   ]
  },
  {
   "cell_type": "markdown",
   "metadata": {},
   "source": [
    "### II. Get query execution status"
   ]
  },
  {
   "cell_type": "markdown",
   "metadata": {},
   "source": [
    "Before retrieving the results, check that the query execution process is finished."
   ]
  },
  {
   "cell_type": "code",
   "execution_count": 5,
   "metadata": {},
   "outputs": [
    {
     "name": "stdout",
     "output_type": "stream",
     "text": [
      "\n",
      "╭─ Operation: \u001b[1;3monboard.get_cc_query_status\u001b[0m ─────────────────────────────────────╮\n",
      "│                                                                              │\n",
      "│  \u001b[3m \u001b[0m\u001b[3mDocumentation\u001b[0m\u001b[3m \u001b[0m  Get the status of a Common Crawl indexes query.            │\n",
      "│                                                                              │\n",
      "│  \u001b[3m \u001b[0m\u001b[3mInputs       \u001b[0m\u001b[3m \u001b[0m                                                             │\n",
      "│  \u001b[3m               \u001b[0m   \u001b[1m \u001b[0m\u001b[1mfield    \u001b[0m\u001b[1m \u001b[0m \u001b[1m        \u001b[0m \u001b[1m          \u001b[0m \u001b[1m          \u001b[0m \u001b[1m           \u001b[0m    │\n",
      "│  \u001b[3m               \u001b[0m   \u001b[1m \u001b[0m\u001b[1mname     \u001b[0m\u001b[1m \u001b[0m \u001b[1m \u001b[0m\u001b[1mtype  \u001b[0m\u001b[1m \u001b[0m \u001b[1m \u001b[0m\u001b[1mdescrip…\u001b[0m\u001b[1m \u001b[0m \u001b[1m \u001b[0m\u001b[1mRequired\u001b[0m\u001b[1m \u001b[0m \u001b[1m \u001b[0m\u001b[1mDefault  \u001b[0m\u001b[1m \u001b[0m    │\n",
      "│  \u001b[3m               \u001b[0m   ──────────────────────────────────────────────────────    │\n",
      "│  \u001b[3m               \u001b[0m   \u001b[3m \u001b[0m\u001b[3mcc_query_\u001b[0m\u001b[3m \u001b[0m  string   AWS/Ath…   \u001b[1myes\u001b[0m        -- no         │\n",
      "│  \u001b[3m               \u001b[0m   \u001b[3m \u001b[0m\u001b[3mid       \u001b[0m\u001b[3m \u001b[0m           query                 default       │\n",
      "│  \u001b[3m               \u001b[0m   \u001b[3m           \u001b[0m           id.                   --            │\n",
      "│  \u001b[3m               \u001b[0m   \u001b[3m \u001b[0m\u001b[3maws_acces\u001b[0m\u001b[3m \u001b[0m  string   The AWS    \u001b[1myes\u001b[0m        -- no         │\n",
      "│  \u001b[3m               \u001b[0m   \u001b[3m \u001b[0m\u001b[3ms_key_id \u001b[0m\u001b[3m \u001b[0m           access                default       │\n",
      "│  \u001b[3m               \u001b[0m   \u001b[3m           \u001b[0m           key id.               --            │\n",
      "│  \u001b[3m               \u001b[0m   \u001b[3m \u001b[0m\u001b[3maws_secre\u001b[0m\u001b[3m \u001b[0m  string   The AWS    \u001b[1myes\u001b[0m        -- no         │\n",
      "│  \u001b[3m               \u001b[0m   \u001b[3m \u001b[0m\u001b[3mt_access_\u001b[0m\u001b[3m \u001b[0m           secret                default       │\n",
      "│  \u001b[3m               \u001b[0m   \u001b[3m \u001b[0m\u001b[3mkey      \u001b[0m\u001b[3m \u001b[0m           access                --            │\n",
      "│  \u001b[3m               \u001b[0m   \u001b[3m           \u001b[0m           key.                                │\n",
      "│  \u001b[3m               \u001b[0m                                                             │\n",
      "│                                                                              │\n",
      "│  \u001b[3m \u001b[0m\u001b[3mOutputs      \u001b[0m\u001b[3m \u001b[0m                                                             │\n",
      "│  \u001b[3m               \u001b[0m   \u001b[1m \u001b[0m\u001b[1mfield name     \u001b[0m\u001b[1m \u001b[0m \u001b[1m \u001b[0m\u001b[1mtype\u001b[0m\u001b[1m \u001b[0m \u001b[1m \u001b[0m\u001b[1mdescription                \u001b[0m\u001b[1m \u001b[0m    │\n",
      "│  \u001b[3m               \u001b[0m   ──────────────────────────────────────────────────────    │\n",
      "│  \u001b[3m               \u001b[0m   \u001b[3m \u001b[0m\u001b[3mcc_query_status\u001b[0m\u001b[3m \u001b[0m  dict   -- n/a --                       │\n",
      "│  \u001b[3m               \u001b[0m                                                             │\n",
      "│                                                                              │\n",
      "╰──────────────────────────────────────────────────────────────────────────────╯\n"
     ]
    }
   ],
   "source": [
    "! kiara operation explain onboard.get_cc_query_status"
   ]
  },
  {
   "cell_type": "code",
   "execution_count": 9,
   "metadata": {},
   "outputs": [],
   "source": [
    "# TODO: check why error if the value is entered directly as a string\n",
    "# \"cc_query_id\": '9b18ffd9-98b8-482a-9fdd-803fd7636b91'\n",
    "\n",
    "inputs = {\n",
    "    \"aws_access_key_id\": aws_access_key_id,\n",
    "    \"aws_secret_access_key\": aws_secret_access_key,\n",
    "    # this doesn't work in kiara at the moment \"cc_query_id\": '9b18ffd9-98b8-482a-9fdd-803fd7636b91',\n",
    "    \"cc_query_id\": query_id['cc_query_id'], \n",
    " }"
   ]
  },
  {
   "cell_type": "code",
   "execution_count": 10,
   "metadata": {},
   "outputs": [
    {
     "data": {
      "text/plain": [
       "{'State': 'SUCCEEDED',\n",
       " 'SubmissionDateTime': datetime.datetime(2023, 10, 9, 16, 50, 53, 844000, tzinfo=tzlocal()),\n",
       " 'CompletionDateTime': datetime.datetime(2023, 10, 9, 16, 50, 57, 349000, tzinfo=tzlocal())}"
      ]
     },
     "execution_count": 10,
     "metadata": {},
     "output_type": "execute_result"
    }
   ],
   "source": [
    "# wait until the output of this cell displays \"state: succeeded\" before processing the notebook further\n",
    "query_status = kiara.run_job('onboard.get_cc_query_status', inputs=inputs)\n",
    "query_status.get_value_data('cc_query_status').dict_data['QueryExecution']['Status']"
   ]
  },
  {
   "cell_type": "markdown",
   "metadata": {},
   "source": [
    "### III. Retrieve query results"
   ]
  },
  {
   "cell_type": "markdown",
   "metadata": {},
   "source": [
    "The result of the query (if any) contains the indexes necessary to access the related web pages content."
   ]
  },
  {
   "cell_type": "code",
   "execution_count": 6,
   "metadata": {},
   "outputs": [
    {
     "name": "stdout",
     "output_type": "stream",
     "text": [
      "\n",
      "╭─ Operation: \u001b[1;3monboard.get_cc_query_result\u001b[0m ─────────────────────────────────────╮\n",
      "│                                                                              │\n",
      "│  \u001b[3m \u001b[0m\u001b[3mDocumentation\u001b[0m\u001b[3m \u001b[0m  Get the result of a Common Crawl documents indexes         │\n",
      "│  \u001b[3m               \u001b[0m  query.                                                     │\n",
      "│                                                                              │\n",
      "│  \u001b[3m \u001b[0m\u001b[3mInputs       \u001b[0m\u001b[3m \u001b[0m                                                             │\n",
      "│  \u001b[3m               \u001b[0m   \u001b[1m \u001b[0m\u001b[1mfield    \u001b[0m\u001b[1m \u001b[0m \u001b[1m        \u001b[0m \u001b[1m          \u001b[0m \u001b[1m          \u001b[0m \u001b[1m           \u001b[0m    │\n",
      "│  \u001b[3m               \u001b[0m   \u001b[1m \u001b[0m\u001b[1mname     \u001b[0m\u001b[1m \u001b[0m \u001b[1m \u001b[0m\u001b[1mtype  \u001b[0m\u001b[1m \u001b[0m \u001b[1m \u001b[0m\u001b[1mdescrip…\u001b[0m\u001b[1m \u001b[0m \u001b[1m \u001b[0m\u001b[1mRequired\u001b[0m\u001b[1m \u001b[0m \u001b[1m \u001b[0m\u001b[1mDefault  \u001b[0m\u001b[1m \u001b[0m    │\n",
      "│  \u001b[3m               \u001b[0m   ──────────────────────────────────────────────────────    │\n",
      "│  \u001b[3m               \u001b[0m   \u001b[3m \u001b[0m\u001b[3mcc_query_\u001b[0m\u001b[3m \u001b[0m  string   AWS/Ath…   \u001b[1myes\u001b[0m        -- no         │\n",
      "│  \u001b[3m               \u001b[0m   \u001b[3m \u001b[0m\u001b[3mid       \u001b[0m\u001b[3m \u001b[0m           query                 default       │\n",
      "│  \u001b[3m               \u001b[0m   \u001b[3m           \u001b[0m           id.                   --            │\n",
      "│  \u001b[3m               \u001b[0m   \u001b[3m \u001b[0m\u001b[3maws_acces\u001b[0m\u001b[3m \u001b[0m  string   The AWS    \u001b[1myes\u001b[0m        -- no         │\n",
      "│  \u001b[3m               \u001b[0m   \u001b[3m \u001b[0m\u001b[3ms_key_id \u001b[0m\u001b[3m \u001b[0m           access                default       │\n",
      "│  \u001b[3m               \u001b[0m   \u001b[3m           \u001b[0m           key id.               --            │\n",
      "│  \u001b[3m               \u001b[0m   \u001b[3m \u001b[0m\u001b[3maws_secre\u001b[0m\u001b[3m \u001b[0m  string   The AWS    \u001b[1myes\u001b[0m        -- no         │\n",
      "│  \u001b[3m               \u001b[0m   \u001b[3m \u001b[0m\u001b[3mt_access_\u001b[0m\u001b[3m \u001b[0m           secret                default       │\n",
      "│  \u001b[3m               \u001b[0m   \u001b[3m \u001b[0m\u001b[3mkey      \u001b[0m\u001b[3m \u001b[0m           access                --            │\n",
      "│  \u001b[3m               \u001b[0m   \u001b[3m           \u001b[0m           key.                                │\n",
      "│  \u001b[3m               \u001b[0m                                                             │\n",
      "│                                                                              │\n",
      "│  \u001b[3m \u001b[0m\u001b[3mOutputs      \u001b[0m\u001b[3m \u001b[0m                                                             │\n",
      "│  \u001b[3m               \u001b[0m   \u001b[1m \u001b[0m\u001b[1mfield name     \u001b[0m\u001b[1m \u001b[0m \u001b[1m \u001b[0m\u001b[1mtype\u001b[0m\u001b[1m \u001b[0m \u001b[1m \u001b[0m\u001b[1mdescription                \u001b[0m\u001b[1m \u001b[0m    │\n",
      "│  \u001b[3m               \u001b[0m   ──────────────────────────────────────────────────────    │\n",
      "│  \u001b[3m               \u001b[0m   \u001b[3m \u001b[0m\u001b[3mcc_query_result\u001b[0m\u001b[3m \u001b[0m  dict   -- n/a --                       │\n",
      "│  \u001b[3m               \u001b[0m                                                             │\n",
      "│                                                                              │\n",
      "╰──────────────────────────────────────────────────────────────────────────────╯\n"
     ]
    }
   ],
   "source": [
    "! kiara operation explain onboard.get_cc_query_result"
   ]
  },
  {
   "cell_type": "code",
   "execution_count": 11,
   "metadata": {},
   "outputs": [],
   "source": [
    "query_result = kiara.run_job('onboard.get_cc_query_result', inputs=inputs)"
   ]
  },
  {
   "cell_type": "code",
   "execution_count": 12,
   "metadata": {},
   "outputs": [],
   "source": [
    "inputs = {\n",
    "    \"cc_query_result\": query_result['cc_query_result'],\n",
    " }"
   ]
  },
  {
   "cell_type": "markdown",
   "metadata": {},
   "source": [
    "### IV. Get web pages content"
   ]
  },
  {
   "cell_type": "markdown",
   "metadata": {},
   "source": [
    "With the exact location in Commoncrawl compressed storage files, it is now possible to retrieve the content of the web pages."
   ]
  },
  {
   "cell_type": "code",
   "execution_count": 7,
   "metadata": {},
   "outputs": [
    {
     "name": "stdout",
     "output_type": "stream",
     "text": [
      "\n",
      "╭─ Operation: \u001b[1;3monboard.get_cc_pages\u001b[0m ────────────────────────────────────────────╮\n",
      "│                                                                              │\n",
      "│  \u001b[3m \u001b[0m\u001b[3mDocumentation\u001b[0m\u001b[3m \u001b[0m  Get the web pages from common crawl indexes.               │\n",
      "│                                                                              │\n",
      "│  \u001b[3m \u001b[0m\u001b[3mInputs       \u001b[0m\u001b[3m \u001b[0m                                                             │\n",
      "│  \u001b[3m               \u001b[0m   \u001b[1m \u001b[0m\u001b[1mfield    \u001b[0m\u001b[1m \u001b[0m \u001b[1m      \u001b[0m \u001b[1m           \u001b[0m \u001b[1m          \u001b[0m \u001b[1m            \u001b[0m    │\n",
      "│  \u001b[3m               \u001b[0m   \u001b[1m \u001b[0m\u001b[1mname     \u001b[0m\u001b[1m \u001b[0m \u001b[1m \u001b[0m\u001b[1mtype\u001b[0m\u001b[1m \u001b[0m \u001b[1m \u001b[0m\u001b[1mdescript…\u001b[0m\u001b[1m \u001b[0m \u001b[1m \u001b[0m\u001b[1mRequired\u001b[0m\u001b[1m \u001b[0m \u001b[1m \u001b[0m\u001b[1mDefault   \u001b[0m\u001b[1m \u001b[0m    │\n",
      "│  \u001b[3m               \u001b[0m   ──────────────────────────────────────────────────────    │\n",
      "│  \u001b[3m               \u001b[0m   \u001b[3m \u001b[0m\u001b[3mcc_query_\u001b[0m\u001b[3m \u001b[0m  dict   Web pages   \u001b[1myes\u001b[0m        -- no          │\n",
      "│  \u001b[3m               \u001b[0m   \u001b[3m \u001b[0m\u001b[3mresult   \u001b[0m\u001b[3m \u001b[0m         retrieved              default --     │\n",
      "│  \u001b[3m               \u001b[0m   \u001b[3m           \u001b[0m         from                                  │\n",
      "│  \u001b[3m               \u001b[0m   \u001b[3m           \u001b[0m         commoncr…                             │\n",
      "│  \u001b[3m               \u001b[0m                                                             │\n",
      "│                                                                              │\n",
      "│  \u001b[3m \u001b[0m\u001b[3mOutputs      \u001b[0m\u001b[3m \u001b[0m                                                             │\n",
      "│  \u001b[3m               \u001b[0m   \u001b[1m \u001b[0m\u001b[1mfield name    \u001b[0m\u001b[1m \u001b[0m \u001b[1m \u001b[0m\u001b[1mtype\u001b[0m\u001b[1m \u001b[0m \u001b[1m \u001b[0m\u001b[1mdescription                 \u001b[0m\u001b[1m \u001b[0m    │\n",
      "│  \u001b[3m               \u001b[0m   ──────────────────────────────────────────────────────    │\n",
      "│  \u001b[3m               \u001b[0m   \u001b[3m \u001b[0m\u001b[3mcc_query_pages\u001b[0m\u001b[3m \u001b[0m  dict   -- n/a --                        │\n",
      "│  \u001b[3m               \u001b[0m                                                             │\n",
      "│                                                                              │\n",
      "╰──────────────────────────────────────────────────────────────────────────────╯\n"
     ]
    }
   ],
   "source": [
    "! kiara operation explain onboard.get_cc_pages"
   ]
  },
  {
   "cell_type": "code",
   "execution_count": 13,
   "metadata": {},
   "outputs": [],
   "source": [
    "res = query_result.get_value_data('cc_query_result')"
   ]
  },
  {
   "cell_type": "code",
   "execution_count": 14,
   "metadata": {},
   "outputs": [],
   "source": [
    "query_pages = kiara.run_job('onboard.get_cc_pages', inputs=inputs)"
   ]
  },
  {
   "cell_type": "code",
   "execution_count": 15,
   "metadata": {},
   "outputs": [
    {
     "data": {
      "text/html": [
       "<pre style=\"white-space:pre;overflow-x:auto;line-height:normal;font-family:Menlo,'DejaVu Sans Mono',consolas,'Courier New',monospace\">╭──────────────────────────────────────────────────────────────────────────────────────────────────────────────────────────────────────────╮\n",
       "│                                                                                                                                          │\n",
       "│  <span style=\"font-weight: bold\"> field          </span> <span style=\"font-weight: bold\"> value                                                                                                               </span>  │\n",
       "│  ──────────────────────────────────────────────────────────────────────────────────────────────────────────────────────────────────────  │\n",
       "│  <span style=\"font-weight: bold\"> cc_query_pages </span> <span style=\"font-style: italic\">                                                                                                                     </span>  │\n",
       "│  <span style=\"font-weight: bold\">                </span> <span style=\"font-style: italic\">   dict data     </span><span style=\"color: #f8f8f2; text-decoration-color: #f8f8f2; background-color: #ffffff\">{</span><span style=\"font-style: italic\">                                                                                                   </span>  │\n",
       "│  <span style=\"font-weight: bold\">                </span> <span style=\"font-style: italic\">                 </span><span style=\"color: #f8f8f2; text-decoration-color: #f8f8f2; background-color: #ffffff\">  </span><span style=\"color: #ff4689; text-decoration-color: #ff4689; background-color: #ffffff\">\"cc_filename\"</span><span style=\"color: #f8f8f2; text-decoration-color: #f8f8f2; background-color: #ffffff\">: [</span><span style=\"font-style: italic\">                                                                                  </span>  │\n",
       "│  <span style=\"font-weight: bold\">                </span> <span style=\"font-style: italic\">                 </span><span style=\"color: #f8f8f2; text-decoration-color: #f8f8f2; background-color: #ffffff\">    </span><span style=\"color: #e6db74; text-decoration-color: #e6db74; background-color: #ffffff\">\"crawl-data/CC-MAIN-2016-36/segments/1471982292181.27/robotstxt/CC-MAIN-20160823195812-00184…</span><span style=\"font-style: italic\">   </span>  │\n",
       "│  <span style=\"font-weight: bold\">                </span> <span style=\"font-style: italic\">                 </span><span style=\"color: #f8f8f2; text-decoration-color: #f8f8f2; background-color: #ffffff\">    </span><span style=\"color: #e6db74; text-decoration-color: #e6db74; background-color: #ffffff\">\"crawl-data/CC-MAIN-2016-36/segments/1471982292493.37/robotstxt/CC-MAIN-20160823195812-00184…</span><span style=\"font-style: italic\">   </span>  │\n",
       "│  <span style=\"font-weight: bold\">                </span> <span style=\"font-style: italic\">                 </span><span style=\"color: #f8f8f2; text-decoration-color: #f8f8f2; background-color: #ffffff\">    </span><span style=\"color: #e6db74; text-decoration-color: #e6db74; background-color: #ffffff\">\"crawl-data/CC-MAIN-2016-36/segments/1471982292607.17/robotstxt/CC-MAIN-20160823195812-00184…</span><span style=\"font-style: italic\">   </span>  │\n",
       "│  <span style=\"font-weight: bold\">                </span> <span style=\"font-style: italic\">                 </span><span style=\"color: #f8f8f2; text-decoration-color: #f8f8f2; background-color: #ffffff\">    </span><span style=\"color: #e6db74; text-decoration-color: #e6db74; background-color: #ffffff\">\"crawl-data/CC-MAIN-2016-36/segments/1471982295358.50/robotstxt/CC-MAIN-20160823195815-00184…</span><span style=\"font-style: italic\">   </span>  │\n",
       "│  <span style=\"font-weight: bold\">                </span> <span style=\"font-style: italic\">                 </span><span style=\"color: #f8f8f2; text-decoration-color: #f8f8f2; background-color: #ffffff\">    </span><span style=\"color: #e6db74; text-decoration-color: #e6db74; background-color: #ffffff\">\"crawl-data/CC-MAIN-2016-36/segments/1471982295424.4/robotstxt/CC-MAIN-20160823195815-00184-…</span><span style=\"font-style: italic\">   </span>  │\n",
       "│  <span style=\"font-weight: bold\">                </span> <span style=\"font-style: italic\">                 </span><span style=\"color: #f8f8f2; text-decoration-color: #f8f8f2; background-color: #ffffff\">    </span><span style=\"color: #e6db74; text-decoration-color: #e6db74; background-color: #ffffff\">\"crawl-data/CC-MAIN-2016-36/segments/1471982295494.5/robotstxt/CC-MAIN-20160823195815-00184-…</span><span style=\"font-style: italic\">   </span>  │\n",
       "│  <span style=\"font-weight: bold\">                </span> <span style=\"font-style: italic\">                 </span><span style=\"color: #f8f8f2; text-decoration-color: #f8f8f2; background-color: #ffffff\">    </span><span style=\"color: #e6db74; text-decoration-color: #e6db74; background-color: #ffffff\">\"crawl-data/CC-MAIN-2016-36/segments/1471982297699.43/robotstxt/CC-MAIN-20160823195817-00049…</span><span style=\"font-style: italic\">   </span>  │\n",
       "│  <span style=\"font-weight: bold\">                </span> <span style=\"font-style: italic\">                 </span><span style=\"color: #f8f8f2; text-decoration-color: #f8f8f2; background-color: #ffffff\">    </span><span style=\"color: #e6db74; text-decoration-color: #e6db74; background-color: #ffffff\">\"crawl-data/CC-MAIN-2016-36/segments/1471982297699.43/robotstxt/CC-MAIN-20160823195817-00184…</span><span style=\"font-style: italic\">   </span>  │\n",
       "│  <span style=\"font-weight: bold\">                </span> <span style=\"font-style: italic\">                 </span><span style=\"color: #f8f8f2; text-decoration-color: #f8f8f2; background-color: #ffffff\">    </span><span style=\"color: #e6db74; text-decoration-color: #e6db74; background-color: #ffffff\">\"crawl-data/CC-MAIN-2016-36/segments/1471982298875.42/robotstxt/CC-MAIN-20160823195818-00184…</span><span style=\"font-style: italic\">   </span>  │\n",
       "│  <span style=\"font-weight: bold\">                </span> <span style=\"font-style: italic\">                 </span><span style=\"color: #f8f8f2; text-decoration-color: #f8f8f2; background-color: #ffffff\">    </span><span style=\"color: #e6db74; text-decoration-color: #e6db74; background-color: #ffffff\">\"crawl-data/CC-MAIN-2016-36/segments/1471982925602.40/robotstxt/CC-MAIN-20160823200845-00184…</span><span style=\"font-style: italic\">   </span>  │\n",
       "│  <span style=\"font-weight: bold\">                </span> <span style=\"font-style: italic\">                 </span><span style=\"color: #f8f8f2; text-decoration-color: #f8f8f2; background-color: #ffffff\">  ],</span><span style=\"font-style: italic\">                                                                                                </span>  │\n",
       "│  <span style=\"font-weight: bold\">                </span> <span style=\"font-style: italic\">                 </span><span style=\"color: #f8f8f2; text-decoration-color: #f8f8f2; background-color: #ffffff\">  </span><span style=\"color: #ff4689; text-decoration-color: #ff4689; background-color: #ffffff\">\"web_page\"</span><span style=\"color: #f8f8f2; text-decoration-color: #f8f8f2; background-color: #ffffff\">: [</span><span style=\"font-style: italic\">                                                                                     </span>  │\n",
       "│  <span style=\"font-weight: bold\">                </span> <span style=\"font-style: italic\">                 </span><span style=\"color: #f8f8f2; text-decoration-color: #f8f8f2; background-color: #ffffff\">    </span><span style=\"color: #e6db74; text-decoration-color: #e6db74; background-color: #ffffff\">\"WARC/1.0\\r\\nWARC-Type: response\\r\\nWARC-Date: 2016-08-24T11:51:39Z\\r\\nWARC-Record-ID: &lt;urn:…</span><span style=\"font-style: italic\">   </span>  │\n",
       "│  <span style=\"font-weight: bold\">                </span> <span style=\"font-style: italic\">                 </span><span style=\"color: #f8f8f2; text-decoration-color: #f8f8f2; background-color: #ffffff\">    </span><span style=\"color: #e6db74; text-decoration-color: #e6db74; background-color: #ffffff\">\"WARC/1.0\\r\\nWARC-Type: response\\r\\nWARC-Date: 2016-08-24T16:06:36Z\\r\\nWARC-Record-ID: &lt;urn:…</span><span style=\"font-style: italic\">   </span>  │\n",
       "│  <span style=\"font-weight: bold\">                </span> <span style=\"font-style: italic\">                 </span><span style=\"color: #f8f8f2; text-decoration-color: #f8f8f2; background-color: #ffffff\">    </span><span style=\"color: #e6db74; text-decoration-color: #e6db74; background-color: #ffffff\">\"WARC/1.0\\r\\nWARC-Type: response\\r\\nWARC-Date: 2016-08-24T17:48:39Z\\r\\nWARC-Record-ID: &lt;urn:…</span><span style=\"font-style: italic\">   </span>  │\n",
       "│  <span style=\"font-weight: bold\">                </span> <span style=\"font-style: italic\">                 </span><span style=\"color: #f8f8f2; text-decoration-color: #f8f8f2; background-color: #ffffff\">    </span><span style=\"color: #e6db74; text-decoration-color: #e6db74; background-color: #ffffff\">\"WARC/1.0\\r\\nWARC-Type: response\\r\\nWARC-Date: 2016-08-26T06:35:22Z\\r\\nWARC-Record-ID: &lt;urn:…</span><span style=\"font-style: italic\">   </span>  │\n",
       "│  <span style=\"font-weight: bold\">                </span> <span style=\"font-style: italic\">                 </span><span style=\"color: #f8f8f2; text-decoration-color: #f8f8f2; background-color: #ffffff\">    </span><span style=\"color: #e6db74; text-decoration-color: #e6db74; background-color: #ffffff\">\"WARC/1.0\\r\\nWARC-Type: response\\r\\nWARC-Date: 2016-08-26T10:05:35Z\\r\\nWARC-Record-ID: &lt;urn:…</span><span style=\"font-style: italic\">   </span>  │\n",
       "│  <span style=\"font-weight: bold\">                </span> <span style=\"font-style: italic\">                 </span><span style=\"color: #f8f8f2; text-decoration-color: #f8f8f2; background-color: #ffffff\">    </span><span style=\"color: #e6db74; text-decoration-color: #e6db74; background-color: #ffffff\">\"WARC/1.0\\r\\nWARC-Type: response\\r\\nWARC-Date: 2016-08-26T11:52:31Z\\r\\nWARC-Record-ID: &lt;urn:…</span><span style=\"font-style: italic\">   </span>  │\n",
       "│  <span style=\"font-weight: bold\">                </span> <span style=\"font-style: italic\">                 </span><span style=\"color: #f8f8f2; text-decoration-color: #f8f8f2; background-color: #ffffff\">    </span><span style=\"color: #e6db74; text-decoration-color: #e6db74; background-color: #ffffff\">\"WARC/1.0\\r\\nWARC-Type: response\\r\\nWARC-Date: 2016-08-27T02:48:43Z\\r\\nWARC-Record-ID: &lt;urn:…</span><span style=\"font-style: italic\">   </span>  │\n",
       "│  <span style=\"font-weight: bold\">                </span> <span style=\"font-style: italic\">                 </span><span style=\"color: #f8f8f2; text-decoration-color: #f8f8f2; background-color: #ffffff\">    </span><span style=\"color: #e6db74; text-decoration-color: #e6db74; background-color: #ffffff\">\"WARC/1.0\\r\\nWARC-Type: response\\r\\nWARC-Date: 2016-08-27T02:48:44Z\\r\\nWARC-Record-ID: &lt;urn:…</span><span style=\"font-style: italic\">   </span>  │\n",
       "│  <span style=\"font-weight: bold\">                </span> <span style=\"font-style: italic\">                 </span><span style=\"color: #f8f8f2; text-decoration-color: #f8f8f2; background-color: #ffffff\">    </span><span style=\"color: #e6db74; text-decoration-color: #e6db74; background-color: #ffffff\">\"WARC/1.0\\r\\nWARC-Type: response\\r\\nWARC-Date: 2016-08-27T08:03:20Z\\r\\nWARC-Record-ID: &lt;urn:…</span><span style=\"font-style: italic\">   </span>  │\n",
       "│  <span style=\"font-weight: bold\">                </span> <span style=\"font-style: italic\">                 </span><span style=\"color: #f8f8f2; text-decoration-color: #f8f8f2; background-color: #ffffff\">    </span><span style=\"color: #e6db74; text-decoration-color: #e6db74; background-color: #ffffff\">\"WARC/1.0\\r\\nWARC-Type: response\\r\\nWARC-Date: 2016-08-27T20:23:29Z\\r\\nWARC-Record-ID: &lt;urn:…</span><span style=\"font-style: italic\">   </span>  │\n",
       "│  <span style=\"font-weight: bold\">                </span> <span style=\"font-style: italic\">                 </span><span style=\"color: #f8f8f2; text-decoration-color: #f8f8f2; background-color: #ffffff\">  ],</span><span style=\"font-style: italic\">                                                                                                </span>  │\n",
       "│  <span style=\"font-weight: bold\">                </span> <span style=\"font-style: italic\">                 </span><span style=\"color: #f8f8f2; text-decoration-color: #f8f8f2; background-color: #ffffff\">  </span><span style=\"color: #ff4689; text-decoration-color: #ff4689; background-color: #ffffff\">\"status\"</span><span style=\"color: #f8f8f2; text-decoration-color: #f8f8f2; background-color: #ffffff\">: [</span><span style=\"font-style: italic\">                                                                                       </span>  │\n",
       "│  <span style=\"font-weight: bold\">                </span> <span style=\"font-style: italic\">                 </span><span style=\"color: #f8f8f2; text-decoration-color: #f8f8f2; background-color: #ffffff\">    </span><span style=\"color: #e6db74; text-decoration-color: #e6db74; background-color: #ffffff\">\"success\"</span><span style=\"color: #f8f8f2; text-decoration-color: #f8f8f2; background-color: #ffffff\">,</span><span style=\"font-style: italic\">                                                                                      </span>  │\n",
       "│  <span style=\"font-weight: bold\">                </span> <span style=\"font-style: italic\">                 </span><span style=\"color: #f8f8f2; text-decoration-color: #f8f8f2; background-color: #ffffff\">    </span><span style=\"color: #e6db74; text-decoration-color: #e6db74; background-color: #ffffff\">\"success\"</span><span style=\"color: #f8f8f2; text-decoration-color: #f8f8f2; background-color: #ffffff\">,</span><span style=\"font-style: italic\">                                                                                      </span>  │\n",
       "│  <span style=\"font-weight: bold\">                </span> <span style=\"font-style: italic\">                 </span><span style=\"color: #f8f8f2; text-decoration-color: #f8f8f2; background-color: #ffffff\">    </span><span style=\"color: #e6db74; text-decoration-color: #e6db74; background-color: #ffffff\">\"success\"</span><span style=\"color: #f8f8f2; text-decoration-color: #f8f8f2; background-color: #ffffff\">,</span><span style=\"font-style: italic\">                                                                                      </span>  │\n",
       "│  <span style=\"font-weight: bold\">                </span> <span style=\"font-style: italic\">                 </span><span style=\"color: #f8f8f2; text-decoration-color: #f8f8f2; background-color: #ffffff\">    </span><span style=\"color: #e6db74; text-decoration-color: #e6db74; background-color: #ffffff\">\"success\"</span><span style=\"color: #f8f8f2; text-decoration-color: #f8f8f2; background-color: #ffffff\">,</span><span style=\"font-style: italic\">                                                                                      </span>  │\n",
       "│  <span style=\"font-weight: bold\">                </span> <span style=\"font-style: italic\">                 </span><span style=\"color: #f8f8f2; text-decoration-color: #f8f8f2; background-color: #ffffff\">    </span><span style=\"color: #e6db74; text-decoration-color: #e6db74; background-color: #ffffff\">\"success\"</span><span style=\"color: #f8f8f2; text-decoration-color: #f8f8f2; background-color: #ffffff\">,</span><span style=\"font-style: italic\">                                                                                      </span>  │\n",
       "│  <span style=\"font-weight: bold\">                </span> <span style=\"font-style: italic\">                 </span><span style=\"color: #f8f8f2; text-decoration-color: #f8f8f2; background-color: #ffffff\">    </span><span style=\"color: #e6db74; text-decoration-color: #e6db74; background-color: #ffffff\">\"success\"</span><span style=\"color: #f8f8f2; text-decoration-color: #f8f8f2; background-color: #ffffff\">,</span><span style=\"font-style: italic\">                                                                                      </span>  │\n",
       "│  <span style=\"font-weight: bold\">                </span> <span style=\"font-style: italic\">                 </span><span style=\"color: #f8f8f2; text-decoration-color: #f8f8f2; background-color: #ffffff\">    </span><span style=\"color: #e6db74; text-decoration-color: #e6db74; background-color: #ffffff\">\"success\"</span><span style=\"color: #f8f8f2; text-decoration-color: #f8f8f2; background-color: #ffffff\">,</span><span style=\"font-style: italic\">                                                                                      </span>  │\n",
       "│  <span style=\"font-weight: bold\">                </span> <span style=\"font-style: italic\">                 </span><span style=\"color: #f8f8f2; text-decoration-color: #f8f8f2; background-color: #ffffff\">    </span><span style=\"color: #e6db74; text-decoration-color: #e6db74; background-color: #ffffff\">\"success\"</span><span style=\"color: #f8f8f2; text-decoration-color: #f8f8f2; background-color: #ffffff\">,</span><span style=\"font-style: italic\">                                                                                      </span>  │\n",
       "│  <span style=\"font-weight: bold\">                </span> <span style=\"font-style: italic\">                 </span><span style=\"color: #f8f8f2; text-decoration-color: #f8f8f2; background-color: #ffffff\">    </span><span style=\"color: #e6db74; text-decoration-color: #e6db74; background-color: #ffffff\">\"success\"</span><span style=\"color: #f8f8f2; text-decoration-color: #f8f8f2; background-color: #ffffff\">,</span><span style=\"font-style: italic\">                                                                                      </span>  │\n",
       "│  <span style=\"font-weight: bold\">                </span> <span style=\"font-style: italic\">                 </span><span style=\"color: #f8f8f2; text-decoration-color: #f8f8f2; background-color: #ffffff\">    </span><span style=\"color: #e6db74; text-decoration-color: #e6db74; background-color: #ffffff\">\"success\"</span><span style=\"font-style: italic\">                                                                                       </span>  │\n",
       "│  <span style=\"font-weight: bold\">                </span> <span style=\"font-style: italic\">                 </span><span style=\"color: #f8f8f2; text-decoration-color: #f8f8f2; background-color: #ffffff\">  ]</span><span style=\"font-style: italic\">                                                                                                 </span>  │\n",
       "│  <span style=\"font-weight: bold\">                </span> <span style=\"font-style: italic\">                 </span><span style=\"color: #f8f8f2; text-decoration-color: #f8f8f2; background-color: #ffffff\">}</span><span style=\"font-style: italic\">                                                                                                   </span>  │\n",
       "│  <span style=\"font-weight: bold\">                </span> <span style=\"font-style: italic\">   dict schema   </span><span style=\"color: #f8f8f2; text-decoration-color: #f8f8f2; background-color: #ffffff\">{</span><span style=\"font-style: italic\">                                                                                                   </span>  │\n",
       "│  <span style=\"font-weight: bold\">                </span> <span style=\"font-style: italic\">                 </span><span style=\"color: #f8f8f2; text-decoration-color: #f8f8f2; background-color: #ffffff\">  </span><span style=\"color: #ff4689; text-decoration-color: #ff4689; background-color: #ffffff\">\"title\"</span><span style=\"color: #f8f8f2; text-decoration-color: #f8f8f2; background-color: #ffffff\">: </span><span style=\"color: #e6db74; text-decoration-color: #e6db74; background-color: #ffffff\">\"dict\"</span><span style=\"color: #f8f8f2; text-decoration-color: #f8f8f2; background-color: #ffffff\">,</span><span style=\"font-style: italic\">                                                                                  </span>  │\n",
       "│  <span style=\"font-weight: bold\">                </span> <span style=\"font-style: italic\">                 </span><span style=\"color: #f8f8f2; text-decoration-color: #f8f8f2; background-color: #ffffff\">  </span><span style=\"color: #ff4689; text-decoration-color: #ff4689; background-color: #ffffff\">\"type\"</span><span style=\"color: #f8f8f2; text-decoration-color: #f8f8f2; background-color: #ffffff\">: </span><span style=\"color: #e6db74; text-decoration-color: #e6db74; background-color: #ffffff\">\"object\"</span><span style=\"font-style: italic\">                                                                                  </span>  │\n",
       "│  <span style=\"font-weight: bold\">                </span> <span style=\"font-style: italic\">                 </span><span style=\"color: #f8f8f2; text-decoration-color: #f8f8f2; background-color: #ffffff\">}</span><span style=\"font-style: italic\">                                                                                                   </span>  │\n",
       "│  <span style=\"font-weight: bold\">                </span> <span style=\"font-style: italic\">                                                                                                                     </span>  │\n",
       "│                                                                                                                                          │\n",
       "╰──────────────────────────────────────────────────────────────────────────────────────────────────────────────────────────────────────────╯\n",
       "</pre>\n"
      ],
      "text/plain": [
       "╭──────────────────────────────────────────────────────────────────────────────────────────────────────────────────────────────────────────╮\n",
       "│                                                                                                                                          │\n",
       "│  \u001b[1m \u001b[0m\u001b[1mfield         \u001b[0m\u001b[1m \u001b[0m \u001b[1m \u001b[0m\u001b[1mvalue                                                                                                              \u001b[0m\u001b[1m \u001b[0m  │\n",
       "│  ──────────────────────────────────────────────────────────────────────────────────────────────────────────────────────────────────────  │\n",
       "│  \u001b[1m \u001b[0m\u001b[1mcc_query_pages\u001b[0m\u001b[1m \u001b[0m \u001b[3m \u001b[0m\u001b[3m                                                                                                                   \u001b[0m\u001b[3m \u001b[0m  │\n",
       "│  \u001b[1m                \u001b[0m \u001b[3m \u001b[0m\u001b[3m \u001b[0m\u001b[3m \u001b[0m\u001b[3mdict data  \u001b[0m\u001b[3m \u001b[0m\u001b[3m \u001b[0m\u001b[3m \u001b[0m\u001b[38;2;248;248;242;49m{\u001b[0m\u001b[3m                                                                                                \u001b[0m\u001b[3m \u001b[0m\u001b[3m \u001b[0m\u001b[3m \u001b[0m  │\n",
       "│  \u001b[1m                \u001b[0m \u001b[3m \u001b[0m\u001b[3m \u001b[0m\u001b[3m             \u001b[0m\u001b[3m \u001b[0m\u001b[3m \u001b[0m\u001b[38;2;248;248;242;49m  \u001b[0m\u001b[38;2;255;70;137;49m\"cc_filename\"\u001b[0m\u001b[38;2;248;248;242;49m:\u001b[0m\u001b[38;2;248;248;242;49m \u001b[0m\u001b[38;2;248;248;242;49m[\u001b[0m\u001b[3m                                                                               \u001b[0m\u001b[3m \u001b[0m\u001b[3m \u001b[0m\u001b[3m \u001b[0m  │\n",
       "│  \u001b[1m                \u001b[0m \u001b[3m \u001b[0m\u001b[3m \u001b[0m\u001b[3m             \u001b[0m\u001b[3m \u001b[0m\u001b[3m \u001b[0m\u001b[38;2;248;248;242;49m    \u001b[0m\u001b[38;2;230;219;116;49m\"crawl-data/CC-MAIN-2016-36/segments/1471982292181.27/robotstxt/CC-MAIN-20160823195812-00184…\u001b[0m\u001b[3m \u001b[0m\u001b[3m \u001b[0m\u001b[3m \u001b[0m  │\n",
       "│  \u001b[1m                \u001b[0m \u001b[3m \u001b[0m\u001b[3m \u001b[0m\u001b[3m             \u001b[0m\u001b[3m \u001b[0m\u001b[3m \u001b[0m\u001b[38;2;248;248;242;49m    \u001b[0m\u001b[38;2;230;219;116;49m\"crawl-data/CC-MAIN-2016-36/segments/1471982292493.37/robotstxt/CC-MAIN-20160823195812-00184…\u001b[0m\u001b[3m \u001b[0m\u001b[3m \u001b[0m\u001b[3m \u001b[0m  │\n",
       "│  \u001b[1m                \u001b[0m \u001b[3m \u001b[0m\u001b[3m \u001b[0m\u001b[3m             \u001b[0m\u001b[3m \u001b[0m\u001b[3m \u001b[0m\u001b[38;2;248;248;242;49m    \u001b[0m\u001b[38;2;230;219;116;49m\"crawl-data/CC-MAIN-2016-36/segments/1471982292607.17/robotstxt/CC-MAIN-20160823195812-00184…\u001b[0m\u001b[3m \u001b[0m\u001b[3m \u001b[0m\u001b[3m \u001b[0m  │\n",
       "│  \u001b[1m                \u001b[0m \u001b[3m \u001b[0m\u001b[3m \u001b[0m\u001b[3m             \u001b[0m\u001b[3m \u001b[0m\u001b[3m \u001b[0m\u001b[38;2;248;248;242;49m    \u001b[0m\u001b[38;2;230;219;116;49m\"crawl-data/CC-MAIN-2016-36/segments/1471982295358.50/robotstxt/CC-MAIN-20160823195815-00184…\u001b[0m\u001b[3m \u001b[0m\u001b[3m \u001b[0m\u001b[3m \u001b[0m  │\n",
       "│  \u001b[1m                \u001b[0m \u001b[3m \u001b[0m\u001b[3m \u001b[0m\u001b[3m             \u001b[0m\u001b[3m \u001b[0m\u001b[3m \u001b[0m\u001b[38;2;248;248;242;49m    \u001b[0m\u001b[38;2;230;219;116;49m\"crawl-data/CC-MAIN-2016-36/segments/1471982295424.4/robotstxt/CC-MAIN-20160823195815-00184-…\u001b[0m\u001b[3m \u001b[0m\u001b[3m \u001b[0m\u001b[3m \u001b[0m  │\n",
       "│  \u001b[1m                \u001b[0m \u001b[3m \u001b[0m\u001b[3m \u001b[0m\u001b[3m             \u001b[0m\u001b[3m \u001b[0m\u001b[3m \u001b[0m\u001b[38;2;248;248;242;49m    \u001b[0m\u001b[38;2;230;219;116;49m\"crawl-data/CC-MAIN-2016-36/segments/1471982295494.5/robotstxt/CC-MAIN-20160823195815-00184-…\u001b[0m\u001b[3m \u001b[0m\u001b[3m \u001b[0m\u001b[3m \u001b[0m  │\n",
       "│  \u001b[1m                \u001b[0m \u001b[3m \u001b[0m\u001b[3m \u001b[0m\u001b[3m             \u001b[0m\u001b[3m \u001b[0m\u001b[3m \u001b[0m\u001b[38;2;248;248;242;49m    \u001b[0m\u001b[38;2;230;219;116;49m\"crawl-data/CC-MAIN-2016-36/segments/1471982297699.43/robotstxt/CC-MAIN-20160823195817-00049…\u001b[0m\u001b[3m \u001b[0m\u001b[3m \u001b[0m\u001b[3m \u001b[0m  │\n",
       "│  \u001b[1m                \u001b[0m \u001b[3m \u001b[0m\u001b[3m \u001b[0m\u001b[3m             \u001b[0m\u001b[3m \u001b[0m\u001b[3m \u001b[0m\u001b[38;2;248;248;242;49m    \u001b[0m\u001b[38;2;230;219;116;49m\"crawl-data/CC-MAIN-2016-36/segments/1471982297699.43/robotstxt/CC-MAIN-20160823195817-00184…\u001b[0m\u001b[3m \u001b[0m\u001b[3m \u001b[0m\u001b[3m \u001b[0m  │\n",
       "│  \u001b[1m                \u001b[0m \u001b[3m \u001b[0m\u001b[3m \u001b[0m\u001b[3m             \u001b[0m\u001b[3m \u001b[0m\u001b[3m \u001b[0m\u001b[38;2;248;248;242;49m    \u001b[0m\u001b[38;2;230;219;116;49m\"crawl-data/CC-MAIN-2016-36/segments/1471982298875.42/robotstxt/CC-MAIN-20160823195818-00184…\u001b[0m\u001b[3m \u001b[0m\u001b[3m \u001b[0m\u001b[3m \u001b[0m  │\n",
       "│  \u001b[1m                \u001b[0m \u001b[3m \u001b[0m\u001b[3m \u001b[0m\u001b[3m             \u001b[0m\u001b[3m \u001b[0m\u001b[3m \u001b[0m\u001b[38;2;248;248;242;49m    \u001b[0m\u001b[38;2;230;219;116;49m\"crawl-data/CC-MAIN-2016-36/segments/1471982925602.40/robotstxt/CC-MAIN-20160823200845-00184…\u001b[0m\u001b[3m \u001b[0m\u001b[3m \u001b[0m\u001b[3m \u001b[0m  │\n",
       "│  \u001b[1m                \u001b[0m \u001b[3m \u001b[0m\u001b[3m \u001b[0m\u001b[3m             \u001b[0m\u001b[3m \u001b[0m\u001b[3m \u001b[0m\u001b[38;2;248;248;242;49m  \u001b[0m\u001b[38;2;248;248;242;49m],\u001b[0m\u001b[3m                                                                                             \u001b[0m\u001b[3m \u001b[0m\u001b[3m \u001b[0m\u001b[3m \u001b[0m  │\n",
       "│  \u001b[1m                \u001b[0m \u001b[3m \u001b[0m\u001b[3m \u001b[0m\u001b[3m             \u001b[0m\u001b[3m \u001b[0m\u001b[3m \u001b[0m\u001b[38;2;248;248;242;49m  \u001b[0m\u001b[38;2;255;70;137;49m\"web_page\"\u001b[0m\u001b[38;2;248;248;242;49m:\u001b[0m\u001b[38;2;248;248;242;49m \u001b[0m\u001b[38;2;248;248;242;49m[\u001b[0m\u001b[3m                                                                                  \u001b[0m\u001b[3m \u001b[0m\u001b[3m \u001b[0m\u001b[3m \u001b[0m  │\n",
       "│  \u001b[1m                \u001b[0m \u001b[3m \u001b[0m\u001b[3m \u001b[0m\u001b[3m             \u001b[0m\u001b[3m \u001b[0m\u001b[3m \u001b[0m\u001b[38;2;248;248;242;49m    \u001b[0m\u001b[38;2;230;219;116;49m\"WARC/1.0\\r\\nWARC-Type: response\\r\\nWARC-Date: 2016-08-24T11:51:39Z\\r\\nWARC-Record-ID: <urn:…\u001b[0m\u001b[3m \u001b[0m\u001b[3m \u001b[0m\u001b[3m \u001b[0m  │\n",
       "│  \u001b[1m                \u001b[0m \u001b[3m \u001b[0m\u001b[3m \u001b[0m\u001b[3m             \u001b[0m\u001b[3m \u001b[0m\u001b[3m \u001b[0m\u001b[38;2;248;248;242;49m    \u001b[0m\u001b[38;2;230;219;116;49m\"WARC/1.0\\r\\nWARC-Type: response\\r\\nWARC-Date: 2016-08-24T16:06:36Z\\r\\nWARC-Record-ID: <urn:…\u001b[0m\u001b[3m \u001b[0m\u001b[3m \u001b[0m\u001b[3m \u001b[0m  │\n",
       "│  \u001b[1m                \u001b[0m \u001b[3m \u001b[0m\u001b[3m \u001b[0m\u001b[3m             \u001b[0m\u001b[3m \u001b[0m\u001b[3m \u001b[0m\u001b[38;2;248;248;242;49m    \u001b[0m\u001b[38;2;230;219;116;49m\"WARC/1.0\\r\\nWARC-Type: response\\r\\nWARC-Date: 2016-08-24T17:48:39Z\\r\\nWARC-Record-ID: <urn:…\u001b[0m\u001b[3m \u001b[0m\u001b[3m \u001b[0m\u001b[3m \u001b[0m  │\n",
       "│  \u001b[1m                \u001b[0m \u001b[3m \u001b[0m\u001b[3m \u001b[0m\u001b[3m             \u001b[0m\u001b[3m \u001b[0m\u001b[3m \u001b[0m\u001b[38;2;248;248;242;49m    \u001b[0m\u001b[38;2;230;219;116;49m\"WARC/1.0\\r\\nWARC-Type: response\\r\\nWARC-Date: 2016-08-26T06:35:22Z\\r\\nWARC-Record-ID: <urn:…\u001b[0m\u001b[3m \u001b[0m\u001b[3m \u001b[0m\u001b[3m \u001b[0m  │\n",
       "│  \u001b[1m                \u001b[0m \u001b[3m \u001b[0m\u001b[3m \u001b[0m\u001b[3m             \u001b[0m\u001b[3m \u001b[0m\u001b[3m \u001b[0m\u001b[38;2;248;248;242;49m    \u001b[0m\u001b[38;2;230;219;116;49m\"WARC/1.0\\r\\nWARC-Type: response\\r\\nWARC-Date: 2016-08-26T10:05:35Z\\r\\nWARC-Record-ID: <urn:…\u001b[0m\u001b[3m \u001b[0m\u001b[3m \u001b[0m\u001b[3m \u001b[0m  │\n",
       "│  \u001b[1m                \u001b[0m \u001b[3m \u001b[0m\u001b[3m \u001b[0m\u001b[3m             \u001b[0m\u001b[3m \u001b[0m\u001b[3m \u001b[0m\u001b[38;2;248;248;242;49m    \u001b[0m\u001b[38;2;230;219;116;49m\"WARC/1.0\\r\\nWARC-Type: response\\r\\nWARC-Date: 2016-08-26T11:52:31Z\\r\\nWARC-Record-ID: <urn:…\u001b[0m\u001b[3m \u001b[0m\u001b[3m \u001b[0m\u001b[3m \u001b[0m  │\n",
       "│  \u001b[1m                \u001b[0m \u001b[3m \u001b[0m\u001b[3m \u001b[0m\u001b[3m             \u001b[0m\u001b[3m \u001b[0m\u001b[3m \u001b[0m\u001b[38;2;248;248;242;49m    \u001b[0m\u001b[38;2;230;219;116;49m\"WARC/1.0\\r\\nWARC-Type: response\\r\\nWARC-Date: 2016-08-27T02:48:43Z\\r\\nWARC-Record-ID: <urn:…\u001b[0m\u001b[3m \u001b[0m\u001b[3m \u001b[0m\u001b[3m \u001b[0m  │\n",
       "│  \u001b[1m                \u001b[0m \u001b[3m \u001b[0m\u001b[3m \u001b[0m\u001b[3m             \u001b[0m\u001b[3m \u001b[0m\u001b[3m \u001b[0m\u001b[38;2;248;248;242;49m    \u001b[0m\u001b[38;2;230;219;116;49m\"WARC/1.0\\r\\nWARC-Type: response\\r\\nWARC-Date: 2016-08-27T02:48:44Z\\r\\nWARC-Record-ID: <urn:…\u001b[0m\u001b[3m \u001b[0m\u001b[3m \u001b[0m\u001b[3m \u001b[0m  │\n",
       "│  \u001b[1m                \u001b[0m \u001b[3m \u001b[0m\u001b[3m \u001b[0m\u001b[3m             \u001b[0m\u001b[3m \u001b[0m\u001b[3m \u001b[0m\u001b[38;2;248;248;242;49m    \u001b[0m\u001b[38;2;230;219;116;49m\"WARC/1.0\\r\\nWARC-Type: response\\r\\nWARC-Date: 2016-08-27T08:03:20Z\\r\\nWARC-Record-ID: <urn:…\u001b[0m\u001b[3m \u001b[0m\u001b[3m \u001b[0m\u001b[3m \u001b[0m  │\n",
       "│  \u001b[1m                \u001b[0m \u001b[3m \u001b[0m\u001b[3m \u001b[0m\u001b[3m             \u001b[0m\u001b[3m \u001b[0m\u001b[3m \u001b[0m\u001b[38;2;248;248;242;49m    \u001b[0m\u001b[38;2;230;219;116;49m\"WARC/1.0\\r\\nWARC-Type: response\\r\\nWARC-Date: 2016-08-27T20:23:29Z\\r\\nWARC-Record-ID: <urn:…\u001b[0m\u001b[3m \u001b[0m\u001b[3m \u001b[0m\u001b[3m \u001b[0m  │\n",
       "│  \u001b[1m                \u001b[0m \u001b[3m \u001b[0m\u001b[3m \u001b[0m\u001b[3m             \u001b[0m\u001b[3m \u001b[0m\u001b[3m \u001b[0m\u001b[38;2;248;248;242;49m  \u001b[0m\u001b[38;2;248;248;242;49m],\u001b[0m\u001b[3m                                                                                             \u001b[0m\u001b[3m \u001b[0m\u001b[3m \u001b[0m\u001b[3m \u001b[0m  │\n",
       "│  \u001b[1m                \u001b[0m \u001b[3m \u001b[0m\u001b[3m \u001b[0m\u001b[3m             \u001b[0m\u001b[3m \u001b[0m\u001b[3m \u001b[0m\u001b[38;2;248;248;242;49m  \u001b[0m\u001b[38;2;255;70;137;49m\"status\"\u001b[0m\u001b[38;2;248;248;242;49m:\u001b[0m\u001b[38;2;248;248;242;49m \u001b[0m\u001b[38;2;248;248;242;49m[\u001b[0m\u001b[3m                                                                                    \u001b[0m\u001b[3m \u001b[0m\u001b[3m \u001b[0m\u001b[3m \u001b[0m  │\n",
       "│  \u001b[1m                \u001b[0m \u001b[3m \u001b[0m\u001b[3m \u001b[0m\u001b[3m             \u001b[0m\u001b[3m \u001b[0m\u001b[3m \u001b[0m\u001b[38;2;248;248;242;49m    \u001b[0m\u001b[38;2;230;219;116;49m\"success\"\u001b[0m\u001b[38;2;248;248;242;49m,\u001b[0m\u001b[3m                                                                                   \u001b[0m\u001b[3m \u001b[0m\u001b[3m \u001b[0m\u001b[3m \u001b[0m  │\n",
       "│  \u001b[1m                \u001b[0m \u001b[3m \u001b[0m\u001b[3m \u001b[0m\u001b[3m             \u001b[0m\u001b[3m \u001b[0m\u001b[3m \u001b[0m\u001b[38;2;248;248;242;49m    \u001b[0m\u001b[38;2;230;219;116;49m\"success\"\u001b[0m\u001b[38;2;248;248;242;49m,\u001b[0m\u001b[3m                                                                                   \u001b[0m\u001b[3m \u001b[0m\u001b[3m \u001b[0m\u001b[3m \u001b[0m  │\n",
       "│  \u001b[1m                \u001b[0m \u001b[3m \u001b[0m\u001b[3m \u001b[0m\u001b[3m             \u001b[0m\u001b[3m \u001b[0m\u001b[3m \u001b[0m\u001b[38;2;248;248;242;49m    \u001b[0m\u001b[38;2;230;219;116;49m\"success\"\u001b[0m\u001b[38;2;248;248;242;49m,\u001b[0m\u001b[3m                                                                                   \u001b[0m\u001b[3m \u001b[0m\u001b[3m \u001b[0m\u001b[3m \u001b[0m  │\n",
       "│  \u001b[1m                \u001b[0m \u001b[3m \u001b[0m\u001b[3m \u001b[0m\u001b[3m             \u001b[0m\u001b[3m \u001b[0m\u001b[3m \u001b[0m\u001b[38;2;248;248;242;49m    \u001b[0m\u001b[38;2;230;219;116;49m\"success\"\u001b[0m\u001b[38;2;248;248;242;49m,\u001b[0m\u001b[3m                                                                                   \u001b[0m\u001b[3m \u001b[0m\u001b[3m \u001b[0m\u001b[3m \u001b[0m  │\n",
       "│  \u001b[1m                \u001b[0m \u001b[3m \u001b[0m\u001b[3m \u001b[0m\u001b[3m             \u001b[0m\u001b[3m \u001b[0m\u001b[3m \u001b[0m\u001b[38;2;248;248;242;49m    \u001b[0m\u001b[38;2;230;219;116;49m\"success\"\u001b[0m\u001b[38;2;248;248;242;49m,\u001b[0m\u001b[3m                                                                                   \u001b[0m\u001b[3m \u001b[0m\u001b[3m \u001b[0m\u001b[3m \u001b[0m  │\n",
       "│  \u001b[1m                \u001b[0m \u001b[3m \u001b[0m\u001b[3m \u001b[0m\u001b[3m             \u001b[0m\u001b[3m \u001b[0m\u001b[3m \u001b[0m\u001b[38;2;248;248;242;49m    \u001b[0m\u001b[38;2;230;219;116;49m\"success\"\u001b[0m\u001b[38;2;248;248;242;49m,\u001b[0m\u001b[3m                                                                                   \u001b[0m\u001b[3m \u001b[0m\u001b[3m \u001b[0m\u001b[3m \u001b[0m  │\n",
       "│  \u001b[1m                \u001b[0m \u001b[3m \u001b[0m\u001b[3m \u001b[0m\u001b[3m             \u001b[0m\u001b[3m \u001b[0m\u001b[3m \u001b[0m\u001b[38;2;248;248;242;49m    \u001b[0m\u001b[38;2;230;219;116;49m\"success\"\u001b[0m\u001b[38;2;248;248;242;49m,\u001b[0m\u001b[3m                                                                                   \u001b[0m\u001b[3m \u001b[0m\u001b[3m \u001b[0m\u001b[3m \u001b[0m  │\n",
       "│  \u001b[1m                \u001b[0m \u001b[3m \u001b[0m\u001b[3m \u001b[0m\u001b[3m             \u001b[0m\u001b[3m \u001b[0m\u001b[3m \u001b[0m\u001b[38;2;248;248;242;49m    \u001b[0m\u001b[38;2;230;219;116;49m\"success\"\u001b[0m\u001b[38;2;248;248;242;49m,\u001b[0m\u001b[3m                                                                                   \u001b[0m\u001b[3m \u001b[0m\u001b[3m \u001b[0m\u001b[3m \u001b[0m  │\n",
       "│  \u001b[1m                \u001b[0m \u001b[3m \u001b[0m\u001b[3m \u001b[0m\u001b[3m             \u001b[0m\u001b[3m \u001b[0m\u001b[3m \u001b[0m\u001b[38;2;248;248;242;49m    \u001b[0m\u001b[38;2;230;219;116;49m\"success\"\u001b[0m\u001b[38;2;248;248;242;49m,\u001b[0m\u001b[3m                                                                                   \u001b[0m\u001b[3m \u001b[0m\u001b[3m \u001b[0m\u001b[3m \u001b[0m  │\n",
       "│  \u001b[1m                \u001b[0m \u001b[3m \u001b[0m\u001b[3m \u001b[0m\u001b[3m             \u001b[0m\u001b[3m \u001b[0m\u001b[3m \u001b[0m\u001b[38;2;248;248;242;49m    \u001b[0m\u001b[38;2;230;219;116;49m\"success\"\u001b[0m\u001b[3m                                                                                    \u001b[0m\u001b[3m \u001b[0m\u001b[3m \u001b[0m\u001b[3m \u001b[0m  │\n",
       "│  \u001b[1m                \u001b[0m \u001b[3m \u001b[0m\u001b[3m \u001b[0m\u001b[3m             \u001b[0m\u001b[3m \u001b[0m\u001b[3m \u001b[0m\u001b[38;2;248;248;242;49m  \u001b[0m\u001b[38;2;248;248;242;49m]\u001b[0m\u001b[3m                                                                                              \u001b[0m\u001b[3m \u001b[0m\u001b[3m \u001b[0m\u001b[3m \u001b[0m  │\n",
       "│  \u001b[1m                \u001b[0m \u001b[3m \u001b[0m\u001b[3m \u001b[0m\u001b[3m             \u001b[0m\u001b[3m \u001b[0m\u001b[3m \u001b[0m\u001b[38;2;248;248;242;49m}\u001b[0m\u001b[3m                                                                                                \u001b[0m\u001b[3m \u001b[0m\u001b[3m \u001b[0m\u001b[3m \u001b[0m  │\n",
       "│  \u001b[1m                \u001b[0m \u001b[3m \u001b[0m\u001b[3m \u001b[0m\u001b[3m \u001b[0m\u001b[3mdict schema\u001b[0m\u001b[3m \u001b[0m\u001b[3m \u001b[0m\u001b[3m \u001b[0m\u001b[38;2;248;248;242;49m{\u001b[0m\u001b[3m                                                                                                \u001b[0m\u001b[3m \u001b[0m\u001b[3m \u001b[0m\u001b[3m \u001b[0m  │\n",
       "│  \u001b[1m                \u001b[0m \u001b[3m \u001b[0m\u001b[3m \u001b[0m\u001b[3m             \u001b[0m\u001b[3m \u001b[0m\u001b[3m \u001b[0m\u001b[38;2;248;248;242;49m  \u001b[0m\u001b[38;2;255;70;137;49m\"title\"\u001b[0m\u001b[38;2;248;248;242;49m:\u001b[0m\u001b[38;2;248;248;242;49m \u001b[0m\u001b[38;2;230;219;116;49m\"dict\"\u001b[0m\u001b[38;2;248;248;242;49m,\u001b[0m\u001b[3m                                                                               \u001b[0m\u001b[3m \u001b[0m\u001b[3m \u001b[0m\u001b[3m \u001b[0m  │\n",
       "│  \u001b[1m                \u001b[0m \u001b[3m \u001b[0m\u001b[3m \u001b[0m\u001b[3m             \u001b[0m\u001b[3m \u001b[0m\u001b[3m \u001b[0m\u001b[38;2;248;248;242;49m  \u001b[0m\u001b[38;2;255;70;137;49m\"type\"\u001b[0m\u001b[38;2;248;248;242;49m:\u001b[0m\u001b[38;2;248;248;242;49m \u001b[0m\u001b[38;2;230;219;116;49m\"object\"\u001b[0m\u001b[3m                                                                               \u001b[0m\u001b[3m \u001b[0m\u001b[3m \u001b[0m\u001b[3m \u001b[0m  │\n",
       "│  \u001b[1m                \u001b[0m \u001b[3m \u001b[0m\u001b[3m \u001b[0m\u001b[3m             \u001b[0m\u001b[3m \u001b[0m\u001b[3m \u001b[0m\u001b[38;2;248;248;242;49m}\u001b[0m\u001b[3m                                                                                                \u001b[0m\u001b[3m \u001b[0m\u001b[3m \u001b[0m\u001b[3m \u001b[0m  │\n",
       "│  \u001b[1m                \u001b[0m \u001b[3m \u001b[0m\u001b[3m                                                                                                                   \u001b[0m\u001b[3m \u001b[0m  │\n",
       "│                                                                                                                                          │\n",
       "╰──────────────────────────────────────────────────────────────────────────────────────────────────────────────────────────────────────────╯\n"
      ]
     },
     "execution_count": 15,
     "metadata": {},
     "output_type": "execute_result"
    }
   ],
   "source": [
    "query_pages"
   ]
  },
  {
   "cell_type": "code",
   "execution_count": null,
   "metadata": {},
   "outputs": [],
   "source": []
  }
 ],
 "metadata": {
  "kernelspec": {
   "display_name": "kiara_onboarding",
   "language": "python",
   "name": "python3"
  },
  "language_info": {
   "codemirror_mode": {
    "name": "ipython",
    "version": 3
   },
   "file_extension": ".py",
   "mimetype": "text/x-python",
   "name": "python",
   "nbconvert_exporter": "python",
   "pygments_lexer": "ipython3",
   "version": "3.11.0"
  },
  "orig_nbformat": 4
 },
 "nbformat": 4,
 "nbformat_minor": 2
}
